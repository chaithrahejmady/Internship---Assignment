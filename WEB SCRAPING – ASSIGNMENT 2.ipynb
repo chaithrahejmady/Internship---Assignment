{
 "cells": [
  {
   "cell_type": "markdown",
   "id": "bd79eb96",
   "metadata": {},
   "source": [
    "# WEB SCRAPING – ASSIGNMENT 2"
   ]
  },
  {
   "cell_type": "code",
   "execution_count": 1,
   "id": "eca57c40",
   "metadata": {},
   "outputs": [
    {
     "name": "stdout",
     "output_type": "stream",
     "text": [
      "Requirement already satisfied: selenium in c:\\users\\vishal\\anaconda3\\lib\\site-packages (4.8.2)\n",
      "Requirement already satisfied: certifi>=2021.10.8 in c:\\users\\vishal\\anaconda3\\lib\\site-packages (from selenium) (2021.10.8)\n",
      "Requirement already satisfied: urllib3[socks]~=1.26 in c:\\users\\vishal\\anaconda3\\lib\\site-packages (from selenium) (1.26.9)\n",
      "Requirement already satisfied: trio-websocket~=0.9 in c:\\users\\vishal\\anaconda3\\lib\\site-packages (from selenium) (0.9.2)\n",
      "Requirement already satisfied: trio~=0.17 in c:\\users\\vishal\\anaconda3\\lib\\site-packages (from selenium) (0.22.0)\n",
      "Requirement already satisfied: attrs>=19.2.0 in c:\\users\\vishal\\anaconda3\\lib\\site-packages (from trio~=0.17->selenium) (21.4.0)\n",
      "Requirement already satisfied: outcome in c:\\users\\vishal\\anaconda3\\lib\\site-packages (from trio~=0.17->selenium) (1.2.0)\n",
      "Requirement already satisfied: sniffio in c:\\users\\vishal\\anaconda3\\lib\\site-packages (from trio~=0.17->selenium) (1.2.0)\n",
      "Requirement already satisfied: sortedcontainers in c:\\users\\vishal\\anaconda3\\lib\\site-packages (from trio~=0.17->selenium) (2.4.0)\n",
      "Requirement already satisfied: exceptiongroup>=1.0.0rc9 in c:\\users\\vishal\\anaconda3\\lib\\site-packages (from trio~=0.17->selenium) (1.1.0)\n",
      "Requirement already satisfied: async-generator>=1.9 in c:\\users\\vishal\\anaconda3\\lib\\site-packages (from trio~=0.17->selenium) (1.10)\n",
      "Requirement already satisfied: idna in c:\\users\\vishal\\anaconda3\\lib\\site-packages (from trio~=0.17->selenium) (3.3)\n",
      "Requirement already satisfied: cffi>=1.14 in c:\\users\\vishal\\anaconda3\\lib\\site-packages (from trio~=0.17->selenium) (1.15.0)\n",
      "Requirement already satisfied: pycparser in c:\\users\\vishal\\anaconda3\\lib\\site-packages (from cffi>=1.14->trio~=0.17->selenium) (2.21)\n",
      "Requirement already satisfied: wsproto>=0.14 in c:\\users\\vishal\\anaconda3\\lib\\site-packages (from trio-websocket~=0.9->selenium) (1.2.0)\n",
      "Requirement already satisfied: PySocks!=1.5.7,<2.0,>=1.5.6 in c:\\users\\vishal\\anaconda3\\lib\\site-packages (from urllib3[socks]~=1.26->selenium) (1.7.1)\n",
      "Requirement already satisfied: h11<1,>=0.9.0 in c:\\users\\vishal\\anaconda3\\lib\\site-packages (from wsproto>=0.14->trio-websocket~=0.9->selenium) (0.14.0)\n"
     ]
    }
   ],
   "source": [
    "!pip install selenium"
   ]
  },
  {
   "cell_type": "code",
   "execution_count": 2,
   "id": "67b4253f",
   "metadata": {},
   "outputs": [],
   "source": [
    "import selenium\n",
    "import pandas as pd\n",
    "from selenium import webdriver\n",
    "import warnings\n",
    "warnings.filterwarnings('ignore')\n",
    "from selenium.common.exceptions import StaleElementReferenceException, NoSuchElementException\n",
    "from selenium.webdriver.common.by import By\n",
    "import time"
   ]
  },
  {
   "cell_type": "markdown",
   "id": "31e2da5a",
   "metadata": {},
   "source": [
    "Q1: Write a python program to scrape data for “Data Analyst” Job position in “Bangalore” location. You\n",
    "have to scrape the job-title, job-location, company_name, experience_required. You have to scrape first 10\n",
    "jobs data."
   ]
  },
  {
   "cell_type": "code",
   "execution_count": 432,
   "id": "5d4db057",
   "metadata": {},
   "outputs": [],
   "source": [
    "driver=webdriver.Chrome(r\"chromedriver.exe\")"
   ]
  },
  {
   "cell_type": "code",
   "execution_count": 108,
   "id": "dc14d323",
   "metadata": {},
   "outputs": [],
   "source": [
    "driver.get(\"https://www.naukri.com/\")"
   ]
  },
  {
   "cell_type": "code",
   "execution_count": 109,
   "id": "e9085e3a",
   "metadata": {},
   "outputs": [],
   "source": [
    "designation=driver.find_element(By.XPATH,\"/html/body/div[1]/div[6]/div/div/div[1]/div/div/div/input\")\n",
    "designation.send_keys('Data Analyst')"
   ]
  },
  {
   "cell_type": "code",
   "execution_count": 110,
   "id": "46c4d2b7",
   "metadata": {},
   "outputs": [],
   "source": [
    "location=driver.find_element(By.XPATH,\"/html/body/div[1]/div[6]/div/div/div[5]/div/div/div/input\")\n",
    "location.send_keys('Bangalore')"
   ]
  },
  {
   "cell_type": "code",
   "execution_count": 111,
   "id": "8d032309",
   "metadata": {},
   "outputs": [],
   "source": [
    "search=driver.find_element(By.XPATH,\"/html/body/div[1]/div[6]/div/div/div[6]\")\n",
    "search.click()"
   ]
  },
  {
   "cell_type": "code",
   "execution_count": 112,
   "id": "664b38ba",
   "metadata": {},
   "outputs": [],
   "source": [
    "job_title=[]\n",
    "job_location=[]\n",
    "company_name=[]\n",
    "experience_required=[]"
   ]
  },
  {
   "cell_type": "code",
   "execution_count": 113,
   "id": "50347d07",
   "metadata": {},
   "outputs": [],
   "source": [
    "title_tags=driver.find_elements(By.XPATH,'//a[@class=\"title ellipsis\"]')\n",
    "for i in title_tags[0:10]:\n",
    "    title=i.text\n",
    "    job_title.append(title) \n",
    "    \n",
    "location_tags=driver.find_elements(By.XPATH,'//span[@title=\"Bangalore/Bengaluru \"]')\n",
    "for i in location_tags[0:10]:\n",
    "    location=i.text\n",
    "    job_location.append(location)  \n",
    "    \n",
    "name_tags=driver.find_elements(By.XPATH,'//a[@class=\"subTitle ellipsis fleft\"]')\n",
    "for i in name_tags[0:10]:\n",
    "    name=i.text\n",
    "    company_name.append(name)\n",
    "    \n",
    "experience_tags=driver.find_elements(By.XPATH,'//span[@class=\"ellipsis fleft expwdth\"]')\n",
    "for i in experience_tags[0:10]:\n",
    "    exp=i.text\n",
    "    experience_required.append(exp)"
   ]
  },
  {
   "cell_type": "code",
   "execution_count": 114,
   "id": "6dfc9901",
   "metadata": {},
   "outputs": [
    {
     "name": "stdout",
     "output_type": "stream",
     "text": [
      "10 10 10 10\n"
     ]
    }
   ],
   "source": [
    "print(len(job_title),len(job_location),len(company_name),len(experience_required))"
   ]
  },
  {
   "cell_type": "code",
   "execution_count": 116,
   "id": "c8046ef7",
   "metadata": {},
   "outputs": [
    {
     "data": {
      "text/html": [
       "<div>\n",
       "<style scoped>\n",
       "    .dataframe tbody tr th:only-of-type {\n",
       "        vertical-align: middle;\n",
       "    }\n",
       "\n",
       "    .dataframe tbody tr th {\n",
       "        vertical-align: top;\n",
       "    }\n",
       "\n",
       "    .dataframe thead th {\n",
       "        text-align: right;\n",
       "    }\n",
       "</style>\n",
       "<table border=\"1\" class=\"dataframe\">\n",
       "  <thead>\n",
       "    <tr style=\"text-align: right;\">\n",
       "      <th></th>\n",
       "      <th>Title</th>\n",
       "      <th>Location</th>\n",
       "      <th>Company_Name</th>\n",
       "      <th>Experience</th>\n",
       "    </tr>\n",
       "  </thead>\n",
       "  <tbody>\n",
       "    <tr>\n",
       "      <th>0</th>\n",
       "      <td>Data Analyst- Yulu Energy</td>\n",
       "      <td>Bangalore/Bengaluru</td>\n",
       "      <td>Yulu Bikes</td>\n",
       "      <td>0-1 Yrs</td>\n",
       "    </tr>\n",
       "    <tr>\n",
       "      <th>1</th>\n",
       "      <td>Data Analyst</td>\n",
       "      <td>Bangalore/Bengaluru</td>\n",
       "      <td>EY</td>\n",
       "      <td>5-10 Yrs</td>\n",
       "    </tr>\n",
       "    <tr>\n",
       "      <th>2</th>\n",
       "      <td>Data Analyst - Pharma/hls Domain (4-9 Years)</td>\n",
       "      <td>Bangalore/Bengaluru</td>\n",
       "      <td>Fractal Analytics</td>\n",
       "      <td>10-20 Yrs</td>\n",
       "    </tr>\n",
       "    <tr>\n",
       "      <th>3</th>\n",
       "      <td>Data Analyst</td>\n",
       "      <td>Bangalore/Bengaluru</td>\n",
       "      <td>Allegis Group</td>\n",
       "      <td>4-7 Yrs</td>\n",
       "    </tr>\n",
       "    <tr>\n",
       "      <th>4</th>\n",
       "      <td>Data Analyst</td>\n",
       "      <td>Bangalore/Bengaluru</td>\n",
       "      <td>Entrupy</td>\n",
       "      <td>1-3 Yrs</td>\n",
       "    </tr>\n",
       "    <tr>\n",
       "      <th>5</th>\n",
       "      <td>Data Analyst</td>\n",
       "      <td>Bangalore/Bengaluru</td>\n",
       "      <td>Staffice Global</td>\n",
       "      <td>14-18 Yrs</td>\n",
       "    </tr>\n",
       "    <tr>\n",
       "      <th>6</th>\n",
       "      <td>Data Analyst</td>\n",
       "      <td>Bangalore/Bengaluru</td>\n",
       "      <td>What Digital Technologies</td>\n",
       "      <td>5-10 Yrs</td>\n",
       "    </tr>\n",
       "    <tr>\n",
       "      <th>7</th>\n",
       "      <td>Data Analyst</td>\n",
       "      <td>Bangalore/Bengaluru</td>\n",
       "      <td>FresherMart</td>\n",
       "      <td>2-3 Yrs</td>\n",
       "    </tr>\n",
       "    <tr>\n",
       "      <th>8</th>\n",
       "      <td>Data Analyst Databricks</td>\n",
       "      <td>Bangalore/Bengaluru</td>\n",
       "      <td>Optum</td>\n",
       "      <td>4-6 Yrs</td>\n",
       "    </tr>\n",
       "    <tr>\n",
       "      <th>9</th>\n",
       "      <td>Data Analyst</td>\n",
       "      <td>Bangalore/Bengaluru</td>\n",
       "      <td>Siemens</td>\n",
       "      <td>1-4 Yrs</td>\n",
       "    </tr>\n",
       "  </tbody>\n",
       "</table>\n",
       "</div>"
      ],
      "text/plain": [
       "                                          Title             Location  \\\n",
       "0                     Data Analyst- Yulu Energy  Bangalore/Bengaluru   \n",
       "1                                  Data Analyst  Bangalore/Bengaluru   \n",
       "2  Data Analyst - Pharma/hls Domain (4-9 Years)  Bangalore/Bengaluru   \n",
       "3                                  Data Analyst  Bangalore/Bengaluru   \n",
       "4                                  Data Analyst  Bangalore/Bengaluru   \n",
       "5                                  Data Analyst  Bangalore/Bengaluru   \n",
       "6                                  Data Analyst  Bangalore/Bengaluru   \n",
       "7                                  Data Analyst  Bangalore/Bengaluru   \n",
       "8                       Data Analyst Databricks  Bangalore/Bengaluru   \n",
       "9                                  Data Analyst  Bangalore/Bengaluru   \n",
       "\n",
       "                Company_Name Experience  \n",
       "0                 Yulu Bikes    0-1 Yrs  \n",
       "1                         EY   5-10 Yrs  \n",
       "2          Fractal Analytics  10-20 Yrs  \n",
       "3              Allegis Group    4-7 Yrs  \n",
       "4                    Entrupy    1-3 Yrs  \n",
       "5            Staffice Global  14-18 Yrs  \n",
       "6  What Digital Technologies   5-10 Yrs  \n",
       "7                FresherMart    2-3 Yrs  \n",
       "8                      Optum    4-6 Yrs  \n",
       "9                    Siemens    1-4 Yrs  "
      ]
     },
     "execution_count": 116,
     "metadata": {},
     "output_type": "execute_result"
    }
   ],
   "source": [
    "import pandas as pd \n",
    "df=pd.DataFrame({'Title':job_title,'Location':job_location,'Company_Name':company_name,'Experience':experience_required})\n",
    "df"
   ]
  },
  {
   "cell_type": "markdown",
   "id": "8a8179d9",
   "metadata": {},
   "source": [
    "Q2: Write a python program to scrape data for “Data Scientist” Job position in “Bangalore” location. You\n",
    "have to scrape the job-title, job-location, company_name. You have to scrape first 10 jobs data."
   ]
  },
  {
   "cell_type": "code",
   "execution_count": 267,
   "id": "cf6dfb0e",
   "metadata": {},
   "outputs": [],
   "source": [
    "driver=webdriver.Chrome(r\"Chromedriver.exe\")"
   ]
  },
  {
   "cell_type": "code",
   "execution_count": 268,
   "id": "3ebe4f06",
   "metadata": {},
   "outputs": [],
   "source": [
    "driver.get(\"https://www.naukri.com/\")"
   ]
  },
  {
   "cell_type": "code",
   "execution_count": 269,
   "id": "9a50854d",
   "metadata": {},
   "outputs": [],
   "source": [
    "designation=driver.find_element(By.XPATH,'/html/body/div[1]/div[6]/div/div/div[1]/div/div/div/input')\n",
    "designation.send_keys('Data Scientist')"
   ]
  },
  {
   "cell_type": "code",
   "execution_count": 270,
   "id": "4b8ba701",
   "metadata": {},
   "outputs": [],
   "source": [
    "location=driver.find_element(By.XPATH,'/html/body/div[1]/div[6]/div/div/div[5]/div/div/div/input')\n",
    "location.send_keys('Bangalore')"
   ]
  },
  {
   "cell_type": "code",
   "execution_count": 271,
   "id": "e79a5604",
   "metadata": {},
   "outputs": [],
   "source": [
    "search=driver.find_element(By.XPATH,'/html/body/div[1]/div[6]/div/div/div[6]')\n",
    "search.click()"
   ]
  },
  {
   "cell_type": "code",
   "execution_count": 272,
   "id": "600c04ef",
   "metadata": {},
   "outputs": [],
   "source": [
    "job_title=[]\n",
    "job_location=[]\n",
    "company_name=[]"
   ]
  },
  {
   "cell_type": "code",
   "execution_count": 273,
   "id": "4a8ab7fa",
   "metadata": {},
   "outputs": [],
   "source": [
    "title_tags=driver.find_elements(By.XPATH,'//a[@class=\"title ellipsis\"]')\n",
    "for i in title_tags[0:10]:\n",
    "    title=i.text\n",
    "    job_title.append(title)\n",
    "\n",
    "location_tags=driver.find_elements(By.XPATH,'//span[@class=\"ellipsis fleft locWdth\"]')\n",
    "for i in location_tags[0:10]:\n",
    "    location=i.text\n",
    "    job_location.append(location)\n",
    "    \n",
    "name_tags=driver.find_elements(By.XPATH,'//a[@class=\"subTitle ellipsis fleft\"]')\n",
    "for i in name_tags[0:10]:\n",
    "    name=i.text\n",
    "    company_name.append(name)"
   ]
  },
  {
   "cell_type": "code",
   "execution_count": 274,
   "id": "47d20072",
   "metadata": {},
   "outputs": [
    {
     "name": "stdout",
     "output_type": "stream",
     "text": [
      "10 10 10\n"
     ]
    }
   ],
   "source": [
    "print(len(job_title),len(job_location),len(company_name))"
   ]
  },
  {
   "cell_type": "code",
   "execution_count": 275,
   "id": "e880df56",
   "metadata": {},
   "outputs": [
    {
     "data": {
      "text/html": [
       "<div>\n",
       "<style scoped>\n",
       "    .dataframe tbody tr th:only-of-type {\n",
       "        vertical-align: middle;\n",
       "    }\n",
       "\n",
       "    .dataframe tbody tr th {\n",
       "        vertical-align: top;\n",
       "    }\n",
       "\n",
       "    .dataframe thead th {\n",
       "        text-align: right;\n",
       "    }\n",
       "</style>\n",
       "<table border=\"1\" class=\"dataframe\">\n",
       "  <thead>\n",
       "    <tr style=\"text-align: right;\">\n",
       "      <th></th>\n",
       "      <th>Title</th>\n",
       "      <th>Location</th>\n",
       "      <th>Company_Name</th>\n",
       "    </tr>\n",
       "  </thead>\n",
       "  <tbody>\n",
       "    <tr>\n",
       "      <th>0</th>\n",
       "      <td>Data Science Specialist</td>\n",
       "      <td>Bangalore/Bengaluru, Kolkata, Mumbai, Hyderaba...</td>\n",
       "      <td>Accenture</td>\n",
       "    </tr>\n",
       "    <tr>\n",
       "      <th>1</th>\n",
       "      <td>Analystics &amp; Modeling Specialist</td>\n",
       "      <td>Bangalore/Bengaluru, Kolkata, Mumbai, Hyderaba...</td>\n",
       "      <td>Accenture</td>\n",
       "    </tr>\n",
       "    <tr>\n",
       "      <th>2</th>\n",
       "      <td>Data Scientist</td>\n",
       "      <td>Hybrid - Bangalore/Bengaluru, Kolkata, Hyderab...</td>\n",
       "      <td>Cognizant</td>\n",
       "    </tr>\n",
       "    <tr>\n",
       "      <th>3</th>\n",
       "      <td>Staff Data Scientist</td>\n",
       "      <td>Bangalore/Bengaluru, Mumbai</td>\n",
       "      <td>Baker Hughes</td>\n",
       "    </tr>\n",
       "    <tr>\n",
       "      <th>4</th>\n",
       "      <td>Sr. Data scientist</td>\n",
       "      <td>Bangalore/Bengaluru, Hyderabad/Secunderabad, M...</td>\n",
       "      <td>Tata Consultancy Services (TCS)</td>\n",
       "    </tr>\n",
       "    <tr>\n",
       "      <th>5</th>\n",
       "      <td>Data Scientist</td>\n",
       "      <td>Bangalore/Bengaluru, Noida, Kolkata, Mumbai, H...</td>\n",
       "      <td>Capgemini</td>\n",
       "    </tr>\n",
       "    <tr>\n",
       "      <th>6</th>\n",
       "      <td>Lead Data Scientist</td>\n",
       "      <td>Bangalore/Bengaluru, Noida, Hyderabad/Secunder...</td>\n",
       "      <td>Birlasoft</td>\n",
       "    </tr>\n",
       "    <tr>\n",
       "      <th>7</th>\n",
       "      <td>Expert Data Scientist</td>\n",
       "      <td>Bangalore/Bengaluru, Mumbai</td>\n",
       "      <td>UPL Limited</td>\n",
       "    </tr>\n",
       "    <tr>\n",
       "      <th>8</th>\n",
       "      <td>Data Scientist</td>\n",
       "      <td>Bangalore/Bengaluru, Noida, Indore, Pune, Gurg...</td>\n",
       "      <td>Impetus Technologies</td>\n",
       "    </tr>\n",
       "    <tr>\n",
       "      <th>9</th>\n",
       "      <td>Lead Artificial Intelligence Specialist</td>\n",
       "      <td>Bangalore/Bengaluru</td>\n",
       "      <td>Baker Hughes</td>\n",
       "    </tr>\n",
       "  </tbody>\n",
       "</table>\n",
       "</div>"
      ],
      "text/plain": [
       "                                     Title  \\\n",
       "0                  Data Science Specialist   \n",
       "1         Analystics & Modeling Specialist   \n",
       "2                           Data Scientist   \n",
       "3                     Staff Data Scientist   \n",
       "4                       Sr. Data scientist   \n",
       "5                           Data Scientist   \n",
       "6                      Lead Data Scientist   \n",
       "7                    Expert Data Scientist   \n",
       "8                           Data Scientist   \n",
       "9  Lead Artificial Intelligence Specialist   \n",
       "\n",
       "                                            Location  \\\n",
       "0  Bangalore/Bengaluru, Kolkata, Mumbai, Hyderaba...   \n",
       "1  Bangalore/Bengaluru, Kolkata, Mumbai, Hyderaba...   \n",
       "2  Hybrid - Bangalore/Bengaluru, Kolkata, Hyderab...   \n",
       "3                        Bangalore/Bengaluru, Mumbai   \n",
       "4  Bangalore/Bengaluru, Hyderabad/Secunderabad, M...   \n",
       "5  Bangalore/Bengaluru, Noida, Kolkata, Mumbai, H...   \n",
       "6  Bangalore/Bengaluru, Noida, Hyderabad/Secunder...   \n",
       "7                        Bangalore/Bengaluru, Mumbai   \n",
       "8  Bangalore/Bengaluru, Noida, Indore, Pune, Gurg...   \n",
       "9                                Bangalore/Bengaluru   \n",
       "\n",
       "                      Company_Name  \n",
       "0                        Accenture  \n",
       "1                        Accenture  \n",
       "2                        Cognizant  \n",
       "3                     Baker Hughes  \n",
       "4  Tata Consultancy Services (TCS)  \n",
       "5                        Capgemini  \n",
       "6                        Birlasoft  \n",
       "7                      UPL Limited  \n",
       "8             Impetus Technologies  \n",
       "9                     Baker Hughes  "
      ]
     },
     "execution_count": 275,
     "metadata": {},
     "output_type": "execute_result"
    }
   ],
   "source": [
    "import pandas as pd \n",
    "df=pd.DataFrame({'Title':job_title,'Location':job_location,'Company_Name':company_name})\n",
    "df"
   ]
  },
  {
   "cell_type": "markdown",
   "id": "dce130f6",
   "metadata": {},
   "source": [
    "Q3: In this question you have to scrape data using the filters available on the webpage as shown below:"
   ]
  },
  {
   "cell_type": "code",
   "execution_count": 164,
   "id": "3b467439",
   "metadata": {},
   "outputs": [],
   "source": [
    "driver=webdriver.Chrome(r\"chormedriver.exe\")"
   ]
  },
  {
   "cell_type": "code",
   "execution_count": 165,
   "id": "3efd97c5",
   "metadata": {},
   "outputs": [],
   "source": [
    "driver.get(\"https://www.naukri.com/\")"
   ]
  },
  {
   "cell_type": "code",
   "execution_count": 166,
   "id": "00b9939e",
   "metadata": {},
   "outputs": [],
   "source": [
    "designation=driver.find_element(By.XPATH,'/html/body/div[1]/div[6]/div/div/div[1]/div/div/div/input')\n",
    "designation.send_keys('Data Scientist')"
   ]
  },
  {
   "cell_type": "code",
   "execution_count": 167,
   "id": "7dcf6abe",
   "metadata": {},
   "outputs": [],
   "source": [
    "search=driver.find_element(By.XPATH,'/html/body/div[1]/div[6]/div/div/div[6]')\n",
    "search.click()"
   ]
  },
  {
   "cell_type": "code",
   "execution_count": 169,
   "id": "56a81ef9",
   "metadata": {},
   "outputs": [],
   "source": [
    "location=driver.find_element(By.XPATH,'/html/body/div[1]/div[4]/div/div/section[1]/div[2]/div[5]/div[2]/div[2]/label/i')\n",
    "location.click()"
   ]
  },
  {
   "cell_type": "code",
   "execution_count": 170,
   "id": "265f7e3f",
   "metadata": {},
   "outputs": [],
   "source": [
    "salary=driver.find_element(By.XPATH,'/html/body/div[1]/div[4]/div/div/section[1]/div[2]/div[6]/div[2]/div[1]')\n",
    "salary.click()"
   ]
  },
  {
   "cell_type": "code",
   "execution_count": 179,
   "id": "0488467c",
   "metadata": {},
   "outputs": [],
   "source": [
    "job_title=[]\n",
    "job_location=[]\n",
    "company_name=[]\n",
    "experience_required=[]"
   ]
  },
  {
   "cell_type": "code",
   "execution_count": 181,
   "id": "73322e06",
   "metadata": {},
   "outputs": [],
   "source": [
    "title_tags=driver.find_elements(By.XPATH,'//a[@class=\"title ellipsis\"]')\n",
    "for i in title_tags:\n",
    "    title=i.text\n",
    "    job_title.append(title)\n",
    "\n",
    "location_tags=driver.find_elements(By.XPATH,'//span[@class=\"ellipsis fleft locWdth\"]')\n",
    "for i in location_tags:\n",
    "    location=i.text\n",
    "    job_location.append(location)\n",
    "\n",
    "name_tags=driver.find_elements(By.XPATH,'//a[@class=\"subTitle ellipsis fleft\"]')\n",
    "for i in name_tags:\n",
    "    name=i.text\n",
    "    company_name.append(name)\n",
    "\n",
    "experience_tags=driver.find_elements(By.XPATH,'//span[@class=\"ellipsis fleft expwdth\"]')\n",
    "for i in experience_tags:\n",
    "    experience=i.text\n",
    "    experience_required.append(experience)"
   ]
  },
  {
   "cell_type": "code",
   "execution_count": 182,
   "id": "f73b7b60",
   "metadata": {},
   "outputs": [
    {
     "name": "stdout",
     "output_type": "stream",
     "text": [
      "10 10 10 10\n"
     ]
    }
   ],
   "source": [
    "print(len(job_title),len(job_location),len(company_name),len(experience_required))"
   ]
  },
  {
   "cell_type": "code",
   "execution_count": 183,
   "id": "d174a5f8",
   "metadata": {},
   "outputs": [
    {
     "data": {
      "text/html": [
       "<div>\n",
       "<style scoped>\n",
       "    .dataframe tbody tr th:only-of-type {\n",
       "        vertical-align: middle;\n",
       "    }\n",
       "\n",
       "    .dataframe tbody tr th {\n",
       "        vertical-align: top;\n",
       "    }\n",
       "\n",
       "    .dataframe thead th {\n",
       "        text-align: right;\n",
       "    }\n",
       "</style>\n",
       "<table border=\"1\" class=\"dataframe\">\n",
       "  <thead>\n",
       "    <tr style=\"text-align: right;\">\n",
       "      <th></th>\n",
       "      <th>Title</th>\n",
       "      <th>Location</th>\n",
       "      <th>Company Name</th>\n",
       "      <th>Experience</th>\n",
       "    </tr>\n",
       "  </thead>\n",
       "  <tbody>\n",
       "    <tr>\n",
       "      <th>0</th>\n",
       "      <td>Data Scientist</td>\n",
       "      <td>Noida, Indore, Pune, Gurgaon/Gurugram, Bangalo...</td>\n",
       "      <td>Impetus Technologies</td>\n",
       "      <td>4-8 Yrs</td>\n",
       "    </tr>\n",
       "    <tr>\n",
       "      <th>1</th>\n",
       "      <td>Data Scientist data Analyst</td>\n",
       "      <td>Delhi / NCR, Kolkata, Hyderabad/Secunderabad, ...</td>\n",
       "      <td>Smark Laser Automation</td>\n",
       "      <td>0-5 Yrs</td>\n",
       "    </tr>\n",
       "    <tr>\n",
       "      <th>2</th>\n",
       "      <td>Data Scientist / Sr. Data Scientist</td>\n",
       "      <td>Gurgaon/Gurugram</td>\n",
       "      <td>Pramerica Life Insurance</td>\n",
       "      <td>2-7 Yrs</td>\n",
       "    </tr>\n",
       "    <tr>\n",
       "      <th>3</th>\n",
       "      <td>Modeler</td>\n",
       "      <td>Noida</td>\n",
       "      <td>Resource Access Management Solutions Pvt. Ltd.</td>\n",
       "      <td>3-7 Yrs</td>\n",
       "    </tr>\n",
       "    <tr>\n",
       "      <th>4</th>\n",
       "      <td>Occupancy Surveyor - Gurugram</td>\n",
       "      <td>Gurgaon/Gurugram</td>\n",
       "      <td>Vatika Hotels</td>\n",
       "      <td>5-10 Yrs</td>\n",
       "    </tr>\n",
       "    <tr>\n",
       "      <th>5</th>\n",
       "      <td>Data Scientist</td>\n",
       "      <td>Noida, Indore, Pune, Gurgaon/Gurugram, Bangalo...</td>\n",
       "      <td>Impetus Technologies</td>\n",
       "      <td>4-8 Yrs</td>\n",
       "    </tr>\n",
       "    <tr>\n",
       "      <th>6</th>\n",
       "      <td>Data Scientist data Analyst</td>\n",
       "      <td>Delhi / NCR, Kolkata, Hyderabad/Secunderabad, ...</td>\n",
       "      <td>Smark Laser Automation</td>\n",
       "      <td>0-5 Yrs</td>\n",
       "    </tr>\n",
       "    <tr>\n",
       "      <th>7</th>\n",
       "      <td>Data Scientist / Sr. Data Scientist</td>\n",
       "      <td>Gurgaon/Gurugram</td>\n",
       "      <td>Pramerica Life Insurance</td>\n",
       "      <td>2-7 Yrs</td>\n",
       "    </tr>\n",
       "    <tr>\n",
       "      <th>8</th>\n",
       "      <td>Modeler</td>\n",
       "      <td>Noida</td>\n",
       "      <td>Resource Access Management Solutions Pvt. Ltd.</td>\n",
       "      <td>3-7 Yrs</td>\n",
       "    </tr>\n",
       "    <tr>\n",
       "      <th>9</th>\n",
       "      <td>Occupancy Surveyor - Gurugram</td>\n",
       "      <td>Gurgaon/Gurugram</td>\n",
       "      <td>Vatika Hotels</td>\n",
       "      <td>5-10 Yrs</td>\n",
       "    </tr>\n",
       "  </tbody>\n",
       "</table>\n",
       "</div>"
      ],
      "text/plain": [
       "                                 Title  \\\n",
       "0                       Data Scientist   \n",
       "1          Data Scientist data Analyst   \n",
       "2  Data Scientist / Sr. Data Scientist   \n",
       "3                              Modeler   \n",
       "4        Occupancy Surveyor - Gurugram   \n",
       "5                       Data Scientist   \n",
       "6          Data Scientist data Analyst   \n",
       "7  Data Scientist / Sr. Data Scientist   \n",
       "8                              Modeler   \n",
       "9        Occupancy Surveyor - Gurugram   \n",
       "\n",
       "                                            Location  \\\n",
       "0  Noida, Indore, Pune, Gurgaon/Gurugram, Bangalo...   \n",
       "1  Delhi / NCR, Kolkata, Hyderabad/Secunderabad, ...   \n",
       "2                                   Gurgaon/Gurugram   \n",
       "3                                              Noida   \n",
       "4                                   Gurgaon/Gurugram   \n",
       "5  Noida, Indore, Pune, Gurgaon/Gurugram, Bangalo...   \n",
       "6  Delhi / NCR, Kolkata, Hyderabad/Secunderabad, ...   \n",
       "7                                   Gurgaon/Gurugram   \n",
       "8                                              Noida   \n",
       "9                                   Gurgaon/Gurugram   \n",
       "\n",
       "                                     Company Name Experience  \n",
       "0                            Impetus Technologies    4-8 Yrs  \n",
       "1                          Smark Laser Automation    0-5 Yrs  \n",
       "2                        Pramerica Life Insurance    2-7 Yrs  \n",
       "3  Resource Access Management Solutions Pvt. Ltd.    3-7 Yrs  \n",
       "4                                   Vatika Hotels   5-10 Yrs  \n",
       "5                            Impetus Technologies    4-8 Yrs  \n",
       "6                          Smark Laser Automation    0-5 Yrs  \n",
       "7                        Pramerica Life Insurance    2-7 Yrs  \n",
       "8  Resource Access Management Solutions Pvt. Ltd.    3-7 Yrs  \n",
       "9                                   Vatika Hotels   5-10 Yrs  "
      ]
     },
     "execution_count": 183,
     "metadata": {},
     "output_type": "execute_result"
    }
   ],
   "source": [
    "import pandas as pd\n",
    "df=pd.DataFrame({'Title':job_title,'Location':job_location,'Company Name':company_name,'Experience':experience_required})\n",
    "df"
   ]
  },
  {
   "cell_type": "markdown",
   "id": "07f18f9b",
   "metadata": {},
   "source": [
    "Q4: Scrape data of first 100 sunglasses listings on flipkart.com. You have to scrape four attributes:"
   ]
  },
  {
   "cell_type": "code",
   "execution_count": 208,
   "id": "9158b050",
   "metadata": {},
   "outputs": [],
   "source": [
    "driver=webdriver.Chrome(r\"chromedriver.exe\")"
   ]
  },
  {
   "cell_type": "code",
   "execution_count": 209,
   "id": "ce355c90",
   "metadata": {},
   "outputs": [],
   "source": [
    "driver.get(\"https://www.flipkart.com/\")"
   ]
  },
  {
   "cell_type": "code",
   "execution_count": 210,
   "id": "b589599f",
   "metadata": {},
   "outputs": [],
   "source": [
    "product=driver.find_element(By.XPATH,'/html/body/div[1]/div/div[1]/div[1]/div[2]/div[2]/form/div/div/input')\n",
    "product.send_keys('sunglasses')"
   ]
  },
  {
   "cell_type": "code",
   "execution_count": 211,
   "id": "0952e2bc",
   "metadata": {},
   "outputs": [],
   "source": [
    "search=driver.find_element(By.XPATH,'/html/body/div[1]/div/div[1]/div[1]/div[2]/div[2]/form/div/button')\n",
    "search.click()"
   ]
  },
  {
   "cell_type": "code",
   "execution_count": 261,
   "id": "efd26e7c",
   "metadata": {},
   "outputs": [],
   "source": [
    "name_title=[]\n",
    "product_description=[]\n",
    "price_required=[]"
   ]
  },
  {
   "cell_type": "code",
   "execution_count": 239,
   "id": "4113396d",
   "metadata": {},
   "outputs": [],
   "source": [
    "title_tags=driver.find_elements(By.XPATH,'//div[@class=\"_2WkVRV\"]')\n",
    "for i in title_tags:\n",
    "    title=i.text\n",
    "    name_title.append(title)\n",
    "\n",
    "description_tags=driver.find_elements(By.XPATH,'//a[@class=\"IRpwTa\"]')\n",
    "for i in description_tags:\n",
    "    description=i.text\n",
    "    product_description.append(description)\n",
    "\n",
    "price_tags=driver.find_elements(By.XPATH,'//a[@class=\"_3bPFwb\"]')\n",
    "for i in price_tags:\n",
    "    price=i.text\n",
    "    price_required.append(price)"
   ]
  },
  {
   "cell_type": "code",
   "execution_count": 240,
   "id": "529630b5",
   "metadata": {},
   "outputs": [
    {
     "name": "stdout",
     "output_type": "stream",
     "text": [
      "40 40 40\n"
     ]
    }
   ],
   "source": [
    "print(len(name_title),len(product_description),len(price_required))"
   ]
  },
  {
   "cell_type": "code",
   "execution_count": 212,
   "id": "182636a7",
   "metadata": {},
   "outputs": [],
   "source": [
    "name_title=[]\n",
    "product_description=[]\n",
    "price_required=[]"
   ]
  },
  {
   "cell_type": "code",
   "execution_count": 213,
   "id": "e9f563f0",
   "metadata": {},
   "outputs": [],
   "source": [
    "start=0\n",
    "end=3\n",
    "for page in range(start,end):\n",
    "    title=driver.find_elements(By.XPATH,'//div[@class=\"_2WkVRV\"]')\n",
    "    for i in title:\n",
    "        name_title.append(i.text)\n",
    "    product=driver.find_elements(By.XPATH,'//a[@class=\"IRpwTa\"]')\n",
    "    for i in product:\n",
    "        product_description.append(i.text)\n",
    "    price=driver.find_elements(By.XPATH,'//div[@class=\"_25b18c\"]')\n",
    "    for i in price:\n",
    "        price_required.append(i.text)\n",
    "    next_button=driver.find_element(By.XPATH,'//a[@class=\"_1LKTO3\"]')\n",
    "    next_button.click()\n",
    "    time.sleep(3)"
   ]
  },
  {
   "cell_type": "code",
   "execution_count": 214,
   "id": "76e1d1c9",
   "metadata": {},
   "outputs": [
    {
     "data": {
      "text/plain": [
       "(120, 119, 135)"
      ]
     },
     "execution_count": 214,
     "metadata": {},
     "output_type": "execute_result"
    }
   ],
   "source": [
    "len(name_title),len(product_description),len(price_required)"
   ]
  },
  {
   "cell_type": "code",
   "execution_count": 192,
   "id": "3293e8c6",
   "metadata": {},
   "outputs": [
    {
     "data": {
      "text/html": [
       "<div>\n",
       "<style scoped>\n",
       "    .dataframe tbody tr th:only-of-type {\n",
       "        vertical-align: middle;\n",
       "    }\n",
       "\n",
       "    .dataframe tbody tr th {\n",
       "        vertical-align: top;\n",
       "    }\n",
       "\n",
       "    .dataframe thead th {\n",
       "        text-align: right;\n",
       "    }\n",
       "</style>\n",
       "<table border=\"1\" class=\"dataframe\">\n",
       "  <thead>\n",
       "    <tr style=\"text-align: right;\">\n",
       "      <th></th>\n",
       "      <th>Product Name</th>\n",
       "      <th>Description</th>\n",
       "      <th>Price</th>\n",
       "    </tr>\n",
       "  </thead>\n",
       "  <tbody>\n",
       "    <tr>\n",
       "      <th>0</th>\n",
       "      <td>Elligator</td>\n",
       "      <td>UV Protection Cat-eye, Retro Square, Oval, Rou...</td>\n",
       "      <td>₹129₹49974% off</td>\n",
       "    </tr>\n",
       "    <tr>\n",
       "      <th>1</th>\n",
       "      <td>Elligator</td>\n",
       "      <td>UV Protection Cat-eye, Retro Square, Oval, Rou...</td>\n",
       "      <td>₹129₹49974% off</td>\n",
       "    </tr>\n",
       "    <tr>\n",
       "      <th>2</th>\n",
       "      <td>Fastrack</td>\n",
       "      <td>UV Protection Rectangular Sunglasses (Free Size)</td>\n",
       "      <td>₹745₹7996% off</td>\n",
       "    </tr>\n",
       "    <tr>\n",
       "      <th>3</th>\n",
       "      <td>Fastrack</td>\n",
       "      <td>UV Protection Aviator Sunglasses (Free Size)</td>\n",
       "      <td>₹539₹89940% off\\nFree delivery</td>\n",
       "    </tr>\n",
       "    <tr>\n",
       "      <th>4</th>\n",
       "      <td>Elligator</td>\n",
       "      <td>UV Protection Cat-eye, Retro Square, Oval, Rou...</td>\n",
       "      <td>₹149₹59975% off\\nFree delivery</td>\n",
       "    </tr>\n",
       "    <tr>\n",
       "      <th>...</th>\n",
       "      <td>...</td>\n",
       "      <td>...</td>\n",
       "      <td>...</td>\n",
       "    </tr>\n",
       "    <tr>\n",
       "      <th>115</th>\n",
       "      <td>VINCENT CHASE</td>\n",
       "      <td>by Lenskart Polarized, UV Protection Aviator S...</td>\n",
       "      <td>₹879₹2,50064% off\\nFree delivery</td>\n",
       "    </tr>\n",
       "    <tr>\n",
       "      <th>116</th>\n",
       "      <td>NuVew</td>\n",
       "      <td>UV Protection, Mirrored Wayfarer Sunglasses (58)</td>\n",
       "      <td>₹99₹87588% off\\nFree delivery</td>\n",
       "    </tr>\n",
       "    <tr>\n",
       "      <th>117</th>\n",
       "      <td>Fastrack</td>\n",
       "      <td>UV Protection Wayfarer Sunglasses (Free Size)</td>\n",
       "      <td>₹674₹99932% off\\nFree delivery</td>\n",
       "    </tr>\n",
       "    <tr>\n",
       "      <th>118</th>\n",
       "      <td>PIRASO</td>\n",
       "      <td>UV Protection Over-sized Sunglasses (65)</td>\n",
       "      <td>₹342₹2,59986% off\\nFree delivery</td>\n",
       "    </tr>\n",
       "    <tr>\n",
       "      <th>119</th>\n",
       "      <td>VINCENT CHASE</td>\n",
       "      <td>by Lenskart Polarized, UV Protection Round Sun...</td>\n",
       "      <td>₹979₹1,99951% off\\nFree delivery</td>\n",
       "    </tr>\n",
       "  </tbody>\n",
       "</table>\n",
       "<p>120 rows × 3 columns</p>\n",
       "</div>"
      ],
      "text/plain": [
       "      Product Name                                        Description  \\\n",
       "0        Elligator  UV Protection Cat-eye, Retro Square, Oval, Rou...   \n",
       "1        Elligator  UV Protection Cat-eye, Retro Square, Oval, Rou...   \n",
       "2         Fastrack   UV Protection Rectangular Sunglasses (Free Size)   \n",
       "3         Fastrack       UV Protection Aviator Sunglasses (Free Size)   \n",
       "4        Elligator  UV Protection Cat-eye, Retro Square, Oval, Rou...   \n",
       "..             ...                                                ...   \n",
       "115  VINCENT CHASE  by Lenskart Polarized, UV Protection Aviator S...   \n",
       "116          NuVew   UV Protection, Mirrored Wayfarer Sunglasses (58)   \n",
       "117       Fastrack      UV Protection Wayfarer Sunglasses (Free Size)   \n",
       "118         PIRASO           UV Protection Over-sized Sunglasses (65)   \n",
       "119  VINCENT CHASE  by Lenskart Polarized, UV Protection Round Sun...   \n",
       "\n",
       "                                Price  \n",
       "0                     ₹129₹49974% off  \n",
       "1                     ₹129₹49974% off  \n",
       "2                      ₹745₹7996% off  \n",
       "3      ₹539₹89940% off\\nFree delivery  \n",
       "4      ₹149₹59975% off\\nFree delivery  \n",
       "..                                ...  \n",
       "115  ₹879₹2,50064% off\\nFree delivery  \n",
       "116     ₹99₹87588% off\\nFree delivery  \n",
       "117    ₹674₹99932% off\\nFree delivery  \n",
       "118  ₹342₹2,59986% off\\nFree delivery  \n",
       "119  ₹979₹1,99951% off\\nFree delivery  \n",
       "\n",
       "[120 rows x 3 columns]"
      ]
     },
     "execution_count": 192,
     "metadata": {},
     "output_type": "execute_result"
    }
   ],
   "source": [
    "import pandas as pd\n",
    "df=pd.DataFrame({'Product Name':name_title,'Description':product_description,'Price':price_required})\n",
    "df"
   ]
  },
  {
   "cell_type": "markdown",
   "id": "c73b7243",
   "metadata": {},
   "source": [
    "Q5: Scrape 100 reviews data from flipkart.com for iphone11 phone. You have to go the link:\n",
    "https://www.flipkart.com/apple-iphone-11-black-64-gb/productreviews/\n",
    "itm4e5041ba101fd?pid=MOBFWQ6BXGJCEYNY&lid=LSTMOBFWQ6BXGJCEYNYZXSHRJ&market\n",
    "place=FLIPKART"
   ]
  },
  {
   "cell_type": "code",
   "execution_count": 268,
   "id": "e1e44d94",
   "metadata": {},
   "outputs": [],
   "source": [
    "driver=webdriver.Chrome(r\"chromedriver.exe\")"
   ]
  },
  {
   "cell_type": "code",
   "execution_count": 269,
   "id": "581f125a",
   "metadata": {},
   "outputs": [],
   "source": [
    "driver.get('https://www.flipkart.com/apple-iphone-11-black-64-gb/product-reviews/itm4e5041ba101fd?pid=MOBFWQ6BXGJCEYNY&lid=LSTMOBFWQ6BXGJCEYNYZXSHRJ&marketplace=FLIPKART')"
   ]
  },
  {
   "cell_type": "code",
   "execution_count": 287,
   "id": "2a4bbc6b",
   "metadata": {},
   "outputs": [],
   "source": [
    "ratings_rate=[]\n",
    "summary_required=[]\n",
    "full_review=[]"
   ]
  },
  {
   "cell_type": "code",
   "execution_count": 282,
   "id": "f37ab592",
   "metadata": {},
   "outputs": [],
   "source": [
    "rate_tags=driver.find_elements(By.XPATH,'//div[@class=\"_3LWZlK _1BLPMq\"]')\n",
    "for i in rate_tags:\n",
    "    rate=i.text\n",
    "    ratings_rate.append(rate)\n",
    "    \n",
    "summary_tags=driver.find_elements(By.XPATH,'//p[@class=\"_2-N8zT\"]')\n",
    "for i in summary_tags:\n",
    "    summary=i.text\n",
    "    summary_required.append(summary)\n",
    "\n",
    "review_tags=driver.find_elements(By.XPATH,'//div[@class=\"t-ZTKy\"]')\n",
    "for i in review_tags:\n",
    "    review=i.text\n",
    "    full_review.append(review)"
   ]
  },
  {
   "cell_type": "code",
   "execution_count": 283,
   "id": "0041c7b1",
   "metadata": {},
   "outputs": [
    {
     "data": {
      "text/plain": [
       "(10, 10, 10)"
      ]
     },
     "execution_count": 283,
     "metadata": {},
     "output_type": "execute_result"
    }
   ],
   "source": [
    "len(ratings_rate),len(summary_required),len(full_review)"
   ]
  },
  {
   "cell_type": "code",
   "execution_count": 288,
   "id": "53cc4860",
   "metadata": {},
   "outputs": [],
   "source": [
    "start=0\n",
    "end=10\n",
    "for page in range(start,end):\n",
    "    rate=driver.find_elements(By.XPATH,'//div[@class=\"_3LWZlK _1BLPMq\"]')\n",
    "    for i in rate:\n",
    "        ratings_rate.append(i.text)\n",
    "    summary=driver.find_elements(By.XPATH,'//p[@class=\"_2-N8zT\"]')\n",
    "    for i in summary:\n",
    "        summary_required.append(i.text)\n",
    "    review=driver.find_elements(By.XPATH,'//div[@class=\"t-ZTKy\"]')\n",
    "    for i in review:\n",
    "        full_review.append(i.text)\n",
    "    next_button=driver.find_element(By.XPATH,'//a[@class=\"_1LKTO3\"]')\n",
    "    next_button.click()\n",
    "    time.sleep(3)"
   ]
  },
  {
   "cell_type": "code",
   "execution_count": 289,
   "id": "8fb2cfa8",
   "metadata": {},
   "outputs": [
    {
     "data": {
      "text/plain": [
       "(100, 100, 100)"
      ]
     },
     "execution_count": 289,
     "metadata": {},
     "output_type": "execute_result"
    }
   ],
   "source": [
    "len(ratings_rate),len(summary_required),len(full_review)"
   ]
  },
  {
   "cell_type": "markdown",
   "id": "310c221a",
   "metadata": {},
   "source": [
    "Q6: Scrape data for first 100 sneakers you find when you visit flipkart.com and search for “sneakers” in the\n",
    "search field."
   ]
  },
  {
   "cell_type": "code",
   "execution_count": 290,
   "id": "6f28e704",
   "metadata": {},
   "outputs": [],
   "source": [
    "driver=webdriver.Chrome(r\"chromedriver.exe\")"
   ]
  },
  {
   "cell_type": "code",
   "execution_count": 291,
   "id": "653cfa58",
   "metadata": {},
   "outputs": [],
   "source": [
    "driver.get('https://www.flipkart.com')"
   ]
  },
  {
   "cell_type": "code",
   "execution_count": 292,
   "id": "acbc12ce",
   "metadata": {},
   "outputs": [],
   "source": [
    "product=driver.find_element(By.XPATH,'/html/body/div[1]/div/div[1]/div[1]/div[2]/div[2]/form/div/div/input')\n",
    "product.send_keys('sneakers')"
   ]
  },
  {
   "cell_type": "code",
   "execution_count": 293,
   "id": "3c12a9a7",
   "metadata": {},
   "outputs": [],
   "source": [
    "search=driver.find_element(By.XPATH,'/html/body/div[1]/div/div[1]/div[1]/div[2]/div[2]/form/div/button')\n",
    "search.click()"
   ]
  },
  {
   "cell_type": "code",
   "execution_count": 301,
   "id": "7cdddcb2",
   "metadata": {},
   "outputs": [],
   "source": [
    "name_title=[]\n",
    "product_description=[]\n",
    "price_required=[]"
   ]
  },
  {
   "cell_type": "code",
   "execution_count": 302,
   "id": "90eec8f2",
   "metadata": {},
   "outputs": [],
   "source": [
    "start=0\n",
    "end=3\n",
    "for i in range(start,end):\n",
    "    title=driver.find_elements(By.XPATH,'//div[@class=\"_2WkVRV\"]')\n",
    "    for i in title:\n",
    "        name_title.append(i.text)\n",
    "    product=driver.find_elements(By.XPATH,'//a[@class=\"IRpwTa\"]')\n",
    "    for i in product:\n",
    "        product_description.append(i.text)\n",
    "    price=driver.find_elements(By.XPATH,'//div[@class=\"_25b18c\"]')\n",
    "    for i in price:\n",
    "        price_required.append(i.text)\n",
    "    next_button=driver.find_element(By.XPATH,'//a[@class=\"_1LKTO3\"]')\n",
    "    next_button.click()\n",
    "    time.sleep(3)"
   ]
  },
  {
   "cell_type": "code",
   "execution_count": 303,
   "id": "2c76a588",
   "metadata": {},
   "outputs": [
    {
     "data": {
      "text/plain": [
       "(120, 111, 135)"
      ]
     },
     "execution_count": 303,
     "metadata": {},
     "output_type": "execute_result"
    }
   ],
   "source": [
    "len(name_title),len(product_description),len(price_required)"
   ]
  },
  {
   "cell_type": "markdown",
   "id": "33f1b9d6",
   "metadata": {},
   "source": [
    "Q7: Go to webpage https://www.amazon.in/ Enter “Laptop” in the search field and then click the search icon. Then\n",
    "set CPU Type filter to “Intel Core i7” as shown in the below image:"
   ]
  },
  {
   "cell_type": "code",
   "execution_count": 122,
   "id": "9260b1cb",
   "metadata": {},
   "outputs": [],
   "source": [
    "driver=webdriver.Chrome(r\"chromedriver.exe\")"
   ]
  },
  {
   "cell_type": "code",
   "execution_count": 123,
   "id": "f4e93342",
   "metadata": {},
   "outputs": [],
   "source": [
    "driver.get('https://www.amazon.in/')"
   ]
  },
  {
   "cell_type": "code",
   "execution_count": 124,
   "id": "8a6d8016",
   "metadata": {},
   "outputs": [],
   "source": [
    "brand=driver.find_element(By.XPATH,'/html/body/div[1]/header/div/div[1]/div[2]/div/form/div[2]/div[1]/input')\n",
    "brand.send_keys('Laptop')"
   ]
  },
  {
   "cell_type": "code",
   "execution_count": 125,
   "id": "887fa6ef",
   "metadata": {},
   "outputs": [],
   "source": [
    "search=driver.find_element(By.XPATH,'/html/body/div[1]/header/div/div[1]/div[2]/div/form/div[3]/div/span/input')\n",
    "search.click()"
   ]
  },
  {
   "cell_type": "code",
   "execution_count": 126,
   "id": "da953435",
   "metadata": {},
   "outputs": [],
   "source": [
    "cpu=driver.find_element(By.XPATH,'/html/body/div[1]/div[2]/div[1]/div[2]/div/div[3]/span/div[1]/div/div/div[6]/ul[6]/li[13]/span/a/div')\n",
    "cpu.click()"
   ]
  },
  {
   "cell_type": "code",
   "execution_count": 127,
   "id": "166e6d6e",
   "metadata": {},
   "outputs": [],
   "source": [
    "name_title=[]\n",
    "ratings_required=[]\n",
    "price_required=[]"
   ]
  },
  {
   "cell_type": "code",
   "execution_count": 128,
   "id": "daf1ec8c",
   "metadata": {},
   "outputs": [],
   "source": [
    "title_tags=driver.find_elements(By.XPATH,'//span[@class=\"a-size-medium a-color-base a-text-normal\"]')\n",
    "for i in title_tags[0:10]:\n",
    "    title=i.text\n",
    "    name_title.append(title)\n",
    "\n",
    "ratings_tags=driver.find_elements(By.XPATH,'//div[@class=\"a-row a-size-small\"]')\n",
    "for i in ratings_tags[0:10]:\n",
    "    ratings=i.text\n",
    "    ratings_required.append(ratings)\n",
    "price_tags=driver.find_elements(By.XPATH,'//span[@class=\"a-price\"]')\n",
    "for i in price_tags[0:10]:\n",
    "    price=i.text\n",
    "    price_required.append(price)"
   ]
  },
  {
   "cell_type": "code",
   "execution_count": 129,
   "id": "028f8fab",
   "metadata": {},
   "outputs": [
    {
     "data": {
      "text/plain": [
       "(10, 10, 10)"
      ]
     },
     "execution_count": 129,
     "metadata": {},
     "output_type": "execute_result"
    }
   ],
   "source": [
    "len(name_title),len(ratings_required),len(price_required)"
   ]
  },
  {
   "cell_type": "code",
   "execution_count": 130,
   "id": "ec777fff",
   "metadata": {},
   "outputs": [
    {
     "data": {
      "text/html": [
       "<div>\n",
       "<style scoped>\n",
       "    .dataframe tbody tr th:only-of-type {\n",
       "        vertical-align: middle;\n",
       "    }\n",
       "\n",
       "    .dataframe tbody tr th {\n",
       "        vertical-align: top;\n",
       "    }\n",
       "\n",
       "    .dataframe thead th {\n",
       "        text-align: right;\n",
       "    }\n",
       "</style>\n",
       "<table border=\"1\" class=\"dataframe\">\n",
       "  <thead>\n",
       "    <tr style=\"text-align: right;\">\n",
       "      <th></th>\n",
       "      <th>Title</th>\n",
       "      <th>Ratings</th>\n",
       "      <th>Price</th>\n",
       "    </tr>\n",
       "  </thead>\n",
       "  <tbody>\n",
       "    <tr>\n",
       "      <th>0</th>\n",
       "      <td>ASUS Vivobook 14, Intel Core i7-1165G7 11th Ge...</td>\n",
       "      <td>4.1\\n(243)</td>\n",
       "      <td>₹56,990</td>\n",
       "    </tr>\n",
       "    <tr>\n",
       "      <th>1</th>\n",
       "      <td>HP Pavilion Plus, 12th Gen Intel Core i7 16GB ...</td>\n",
       "      <td>4.0\\n(112)</td>\n",
       "      <td>₹95,990</td>\n",
       "    </tr>\n",
       "    <tr>\n",
       "      <th>2</th>\n",
       "      <td>ASUS Vivobook 15, 15.6-inch (39.62 cms) FHD, I...</td>\n",
       "      <td>4.1\\n(202)</td>\n",
       "      <td>₹65,250</td>\n",
       "    </tr>\n",
       "    <tr>\n",
       "      <th>3</th>\n",
       "      <td>Hp Pavilion 15 12Th Gen Intel Core I7 16Gb Sdr...</td>\n",
       "      <td>3.8\\n(53)</td>\n",
       "      <td>₹89,990</td>\n",
       "    </tr>\n",
       "    <tr>\n",
       "      <th>4</th>\n",
       "      <td>Fujitsu UH-X 11th Gen Intel Core i7 13.3\" FHD ...</td>\n",
       "      <td>4.3\\n(92)</td>\n",
       "      <td>₹89,990</td>\n",
       "    </tr>\n",
       "    <tr>\n",
       "      <th>5</th>\n",
       "      <td>Samsung Galaxy Book2 (NP750) Intel 12th Gen co...</td>\n",
       "      <td>4.1\\n(86)</td>\n",
       "      <td>₹79,990</td>\n",
       "    </tr>\n",
       "    <tr>\n",
       "      <th>6</th>\n",
       "      <td>(Renewed) Dell Latitude E7470 Intel Core i7 6t...</td>\n",
       "      <td>4.0\\n(45)</td>\n",
       "      <td>₹30,074</td>\n",
       "    </tr>\n",
       "    <tr>\n",
       "      <th>7</th>\n",
       "      <td>HP Envy x360 12th Gen Intel Core i7-13.3 inch(...</td>\n",
       "      <td>1.0\\n(1)</td>\n",
       "      <td>₹1,14,990</td>\n",
       "    </tr>\n",
       "    <tr>\n",
       "      <th>8</th>\n",
       "      <td>Lenovo ThinkPad P14s Mobile Workstation 11th G...</td>\n",
       "      <td>5.0\\n(1)</td>\n",
       "      <td>₹1,03,990</td>\n",
       "    </tr>\n",
       "    <tr>\n",
       "      <th>9</th>\n",
       "      <td>Dell Inspiron 5320 Laptop, Intel i7-1260P, 16G...</td>\n",
       "      <td>3.3\\n(7)</td>\n",
       "      <td>₹89,990</td>\n",
       "    </tr>\n",
       "  </tbody>\n",
       "</table>\n",
       "</div>"
      ],
      "text/plain": [
       "                                               Title     Ratings      Price\n",
       "0  ASUS Vivobook 14, Intel Core i7-1165G7 11th Ge...  4.1\\n(243)    ₹56,990\n",
       "1  HP Pavilion Plus, 12th Gen Intel Core i7 16GB ...  4.0\\n(112)    ₹95,990\n",
       "2  ASUS Vivobook 15, 15.6-inch (39.62 cms) FHD, I...  4.1\\n(202)    ₹65,250\n",
       "3  Hp Pavilion 15 12Th Gen Intel Core I7 16Gb Sdr...   3.8\\n(53)    ₹89,990\n",
       "4  Fujitsu UH-X 11th Gen Intel Core i7 13.3\" FHD ...   4.3\\n(92)    ₹89,990\n",
       "5  Samsung Galaxy Book2 (NP750) Intel 12th Gen co...   4.1\\n(86)    ₹79,990\n",
       "6  (Renewed) Dell Latitude E7470 Intel Core i7 6t...   4.0\\n(45)    ₹30,074\n",
       "7  HP Envy x360 12th Gen Intel Core i7-13.3 inch(...    1.0\\n(1)  ₹1,14,990\n",
       "8  Lenovo ThinkPad P14s Mobile Workstation 11th G...    5.0\\n(1)  ₹1,03,990\n",
       "9  Dell Inspiron 5320 Laptop, Intel i7-1260P, 16G...    3.3\\n(7)    ₹89,990"
      ]
     },
     "execution_count": 130,
     "metadata": {},
     "output_type": "execute_result"
    }
   ],
   "source": [
    "import pandas as pd \n",
    "df=pd.DataFrame({'Title':name_title,'Ratings':ratings_required,'Price':price_required})\n",
    "df"
   ]
  },
  {
   "cell_type": "markdown",
   "id": "f4c28e91",
   "metadata": {},
   "source": [
    "Q8: Write a python program to scrape data for Top 1000 Quotes of All Time."
   ]
  },
  {
   "cell_type": "code",
   "execution_count": 77,
   "id": "36cca780",
   "metadata": {},
   "outputs": [],
   "source": [
    "driver=webdriver.Chrome(r\"chromedriver.exe\")"
   ]
  },
  {
   "cell_type": "code",
   "execution_count": 78,
   "id": "96f47444",
   "metadata": {},
   "outputs": [],
   "source": [
    "driver.get('https://www.azquotes.com/')"
   ]
  },
  {
   "cell_type": "code",
   "execution_count": 79,
   "id": "f3024ea0",
   "metadata": {},
   "outputs": [],
   "source": [
    "quotes=driver.find_element(By.XPATH,'/html/body/div[1]/div[1]/div[1]/div/div[3]/ul/li[5]/a')\n",
    "quotes.click()"
   ]
  },
  {
   "cell_type": "code",
   "execution_count": 31,
   "id": "b9583af4",
   "metadata": {},
   "outputs": [],
   "source": [
    "quote_title=[]\n",
    "author_name=[]\n",
    "types_required=[]"
   ]
  },
  {
   "cell_type": "code",
   "execution_count": 32,
   "id": "252c1097",
   "metadata": {},
   "outputs": [],
   "source": [
    "title_tags=driver.find_elements(By.XPATH,'//a[@class=\"title\"]')\n",
    "for i in title_tags:\n",
    "    title=i.text\n",
    "    quote_title.append(title)\n",
    "name_tags=driver.find_elements(By.XPATH,'//div[@class=\"author\"]')\n",
    "for i in name_tags:\n",
    "    name=i.text\n",
    "    author_name.append(name)\n",
    "types_tags=driver.find_elements(By.XPATH,'//div[@class=\"tags\"]')\n",
    "for i in types_tags:\n",
    "    types=i.text\n",
    "    types_required.append(types)"
   ]
  },
  {
   "cell_type": "code",
   "execution_count": 33,
   "id": "9f50f820",
   "metadata": {},
   "outputs": [
    {
     "data": {
      "text/plain": [
       "(100, 100, 100)"
      ]
     },
     "execution_count": 33,
     "metadata": {},
     "output_type": "execute_result"
    }
   ],
   "source": [
    "len(quote_title),len(name_tags),len(types_required)"
   ]
  },
  {
   "cell_type": "code",
   "execution_count": 80,
   "id": "c68573b3",
   "metadata": {},
   "outputs": [],
   "source": [
    "quote_title=[]\n",
    "author_name=[]\n",
    "types_required=[]"
   ]
  },
  {
   "cell_type": "code",
   "execution_count": 81,
   "id": "b268255c",
   "metadata": {},
   "outputs": [],
   "source": [
    "start=0\n",
    "end=10\n",
    "for page in range(start,end):\n",
    "    title=driver.find_elements(By.XPATH,'//a[@class=\"title\"]')\n",
    "    for i in title:\n",
    "        quote_title.append(i.text)\n",
    "    author=driver.find_elements(By.XPATH,'//div[@class=\"author\"]')\n",
    "    for i in author:\n",
    "        author_name.append(i.text)\n",
    "    types=driver.find_elements(By.XPATH,'//div[@class=\"tags\"]')\n",
    "    for i in types:\n",
    "        types_required.append(i.text)\n",
    "    next_button=driver.find_element(By.XPATH,'/html/body/div[1]/div[2]/div/div/div/div[1]/div/div[3]/li[12]/a')\n",
    "    next_button.click()\n",
    "    time.sleep(3)"
   ]
  },
  {
   "cell_type": "code",
   "execution_count": 82,
   "id": "6b3cf5d1",
   "metadata": {},
   "outputs": [
    {
     "data": {
      "text/plain": [
       "(1000, 1000, 1000)"
      ]
     },
     "execution_count": 82,
     "metadata": {},
     "output_type": "execute_result"
    }
   ],
   "source": [
    "len(quote_title),len(author_name),len(types_required)"
   ]
  },
  {
   "cell_type": "markdown",
   "id": "6a4b3ff6",
   "metadata": {},
   "source": [
    "Q9: Write a python program to display list of respected former Prime Ministers of India(i.e. Name, Born-Dead,\n",
    "Term of office, Remarks) from https://www.jagranjosh.com/."
   ]
  },
  {
   "cell_type": "code",
   "execution_count": 151,
   "id": "c2ea0590",
   "metadata": {},
   "outputs": [],
   "source": [
    "driver=webdriver.Chrome(r\"chromedriver.exe\")"
   ]
  },
  {
   "cell_type": "code",
   "execution_count": 152,
   "id": "8f7b4a01",
   "metadata": {},
   "outputs": [],
   "source": [
    "driver.get('https://www.jagranjosh.com/')"
   ]
  },
  {
   "cell_type": "code",
   "execution_count": 153,
   "id": "81883e06",
   "metadata": {},
   "outputs": [],
   "source": [
    "gk=driver.find_element(By.XPATH,'/html/body/div/div[1]/div/div[1]/div/div[6]/div/div[1]/header/div[3]/ul/li[9]/a')\n",
    "gk.click()"
   ]
  },
  {
   "cell_type": "code",
   "execution_count": 158,
   "id": "dd881cf0",
   "metadata": {},
   "outputs": [],
   "source": [
    "minister=driver.find_element(By.XPATH,'/html/body/div[1]/div/div/div[2]/div/div[10]/div/div/ul/li[2]/a')\n",
    "minister.click()"
   ]
  },
  {
   "cell_type": "code",
   "execution_count": 159,
   "id": "b36c4e51",
   "metadata": {},
   "outputs": [],
   "source": [
    "name_title=[]\n",
    "born_dead=[]\n",
    "term_office=[]\n",
    "remarks_required=[]"
   ]
  },
  {
   "cell_type": "code",
   "execution_count": 160,
   "id": "1d55b009",
   "metadata": {},
   "outputs": [],
   "source": [
    "title_tags=driver.find_elements(By.XPATH,'//div[@class=\"table-box\"]/table/tbody/tr/td[2]/p')\n",
    "for i in title_tags:\n",
    "    title=i.text\n",
    "    name_title.append(title)\n",
    "born_tags=driver.find_elements(By.XPATH,'//div[@class=\"table-box\"]/table/tbody/tr/td[3]/p')\n",
    "for i in born_tags:\n",
    "    born=i.text\n",
    "    born_dead.append(born)\n",
    "term_tags=driver.find_elements(By.XPATH,'//div[@class=\"table-box\"]/table/tbody/tr/td[4]/p')\n",
    "for i in term_tags:\n",
    "    term=i.text\n",
    "    term_office.append(term)\n",
    "remarks_tags=driver.find_elements(By.XPATH,'//div[@class=\"table-box\"]/table/tbody/tr/td[5]/p')\n",
    "for i in remarks_tags:\n",
    "    remarks=i.text\n",
    "    remarks_required.append(remarks)"
   ]
  },
  {
   "cell_type": "code",
   "execution_count": 161,
   "id": "3d91a783",
   "metadata": {},
   "outputs": [
    {
     "data": {
      "text/plain": [
       "(18, 0, 0, 18)"
      ]
     },
     "execution_count": 161,
     "metadata": {},
     "output_type": "execute_result"
    }
   ],
   "source": [
    "len(name_title),len(born_duration),len(term_duration),len(remarks_required)"
   ]
  },
  {
   "cell_type": "code",
   "execution_count": 194,
   "id": "d6dcdb12",
   "metadata": {},
   "outputs": [],
   "source": [
    "name_title=[]\n",
    "born_dead=[]\n",
    "term_office=[]\n",
    "remarks_required=[]"
   ]
  },
  {
   "cell_type": "code",
   "execution_count": 195,
   "id": "c5748e51",
   "metadata": {},
   "outputs": [],
   "source": [
    "title_tags=driver.find_elements(By.XPATH,'//div[@class=\"table-box\"]/table/tbody/tr/td[2]/p')\n",
    "for i in title_tags:\n",
    "    title=i.text\n",
    "    name_title.append(title)\n",
    "born_tags=driver.find_elements(By.XPATH,'//div[@class=\"table-box\"]/table/tbody/tr/td[3]/p')\n",
    "for i in born_tags:\n",
    "    born=i.text\n",
    "    born_dead.append(born)\n",
    "term_tags=driver.find_elements(By.XPATH,'//div[@class=\"table-box\"]/table/tbody/tr/td[4]/p')\n",
    "for i in term_tags:\n",
    "    term=i.text\n",
    "    term_office.append(term)\n",
    "remarks_tags=driver.find_elements(By.XPATH,'//div[@class=\"table-box\"]/table/tbody/tr/td[5]/p')\n",
    "for i in remarks_tags:\n",
    "    remarks=i.text\n",
    "    remarks_required.append(remarks)"
   ]
  },
  {
   "cell_type": "code",
   "execution_count": 196,
   "id": "80b723d7",
   "metadata": {},
   "outputs": [
    {
     "data": {
      "text/plain": [
       "(18, 18, 35, 18)"
      ]
     },
     "execution_count": 196,
     "metadata": {},
     "output_type": "execute_result"
    }
   ],
   "source": [
    "len(title_tags),len(born_dead),len(term_office),len(remarks_required)"
   ]
  },
  {
   "cell_type": "markdown",
   "id": "e1fed4ec",
   "metadata": {},
   "source": [
    "Q10: Write a python program to display list of 50 Most expensive cars in the world (i.e.\n",
    "Car name and Price) from https://www.motor1.com/"
   ]
  },
  {
   "cell_type": "code",
   "execution_count": 80,
   "id": "c2797fcd",
   "metadata": {},
   "outputs": [],
   "source": [
    "driver=webdriver.Chrome(r\"chromedriver.exe\")"
   ]
  },
  {
   "cell_type": "code",
   "execution_count": 81,
   "id": "d0678688",
   "metadata": {},
   "outputs": [],
   "source": [
    "driver.get('https://www.motor1.com/')"
   ]
  },
  {
   "cell_type": "code",
   "execution_count": 83,
   "id": "7d34c9c6",
   "metadata": {},
   "outputs": [],
   "source": [
    "menu=driver.find_element(By.XPATH,'/html/body/div[3]/div[2]/div/div/div[1]')\n",
    "menu.click()"
   ]
  },
  {
   "cell_type": "code",
   "execution_count": 84,
   "id": "fd3fbba7",
   "metadata": {},
   "outputs": [],
   "source": [
    "features=driver.find_element(By.XPATH,'/html/body/div[4]/div[1]/div[3]/ul/li[5]/button')\n",
    "features.click()"
   ]
  },
  {
   "cell_type": "code",
   "execution_count": 85,
   "id": "7931f2fc",
   "metadata": {},
   "outputs": [],
   "source": [
    "lists=driver.find_element(By.XPATH,'/html/body/div[4]/div[1]/div[3]/ul/li[6]/ul/li[1]/a')\n",
    "lists.click()"
   ]
  },
  {
   "cell_type": "code",
   "execution_count": 98,
   "id": "d1d59fb8",
   "metadata": {},
   "outputs": [],
   "source": [
    "expensive=driver.find_element(By.XPATH,'/html/body/div[3]/div[9]/div[1]/div[1]/div/div/div[4]/div/div[1]/h3/a')\n",
    "expensive.click()"
   ]
  },
  {
   "cell_type": "code",
   "execution_count": 99,
   "id": "24d4a32f",
   "metadata": {},
   "outputs": [],
   "source": [
    "car_name=[]\n",
    "price_required=[]"
   ]
  },
  {
   "cell_type": "code",
   "execution_count": 100,
   "id": "f80d16c1",
   "metadata": {},
   "outputs": [],
   "source": [
    "name_tags=driver.find_elements(By.XPATH,'//h3[@class=\"subheader\"]')\n",
    "for i in name_tags:\n",
    "    name=i.text\n",
    "    car_name.append(name)\n",
    "price_tags=driver.find_elements(By.XPATH,'//strong')\n",
    "for i in price_tags:\n",
    "    price=i.text\n",
    "    price_required.append(price)"
   ]
  },
  {
   "cell_type": "code",
   "execution_count": 101,
   "id": "4f6e7ed2",
   "metadata": {},
   "outputs": [
    {
     "data": {
      "text/plain": [
       "(51, 51)"
      ]
     },
     "execution_count": 101,
     "metadata": {},
     "output_type": "execute_result"
    }
   ],
   "source": [
    "len(car_name),len(price_required)"
   ]
  },
  {
   "cell_type": "code",
   "execution_count": null,
   "id": "48cae013",
   "metadata": {},
   "outputs": [],
   "source": []
  }
 ],
 "metadata": {
  "kernelspec": {
   "display_name": "Python 3 (ipykernel)",
   "language": "python",
   "name": "python3"
  },
  "language_info": {
   "codemirror_mode": {
    "name": "ipython",
    "version": 3
   },
   "file_extension": ".py",
   "mimetype": "text/x-python",
   "name": "python",
   "nbconvert_exporter": "python",
   "pygments_lexer": "ipython3",
   "version": "3.9.12"
  }
 },
 "nbformat": 4,
 "nbformat_minor": 5
}
