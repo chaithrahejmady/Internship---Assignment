{
 "cells": [
  {
   "cell_type": "markdown",
   "id": "b29afc73",
   "metadata": {},
   "source": [
    "# WEB SCRAPING-ASSIGNMENT3"
   ]
  },
  {
   "cell_type": "code",
   "execution_count": 1,
   "id": "d51c35d5",
   "metadata": {},
   "outputs": [
    {
     "name": "stdout",
     "output_type": "stream",
     "text": [
      "Requirement already satisfied: selenium in c:\\users\\vishal\\anaconda3\\lib\\site-packages (4.8.2)\n",
      "Requirement already satisfied: trio-websocket~=0.9 in c:\\users\\vishal\\anaconda3\\lib\\site-packages (from selenium) (0.9.2)\n",
      "Requirement already satisfied: urllib3[socks]~=1.26 in c:\\users\\vishal\\anaconda3\\lib\\site-packages (from selenium) (1.26.9)\n",
      "Requirement already satisfied: certifi>=2021.10.8 in c:\\users\\vishal\\anaconda3\\lib\\site-packages (from selenium) (2021.10.8)\n",
      "Requirement already satisfied: trio~=0.17 in c:\\users\\vishal\\anaconda3\\lib\\site-packages (from selenium) (0.22.0)\n",
      "Requirement already satisfied: idna in c:\\users\\vishal\\anaconda3\\lib\\site-packages (from trio~=0.17->selenium) (3.3)\n",
      "Requirement already satisfied: async-generator>=1.9 in c:\\users\\vishal\\anaconda3\\lib\\site-packages (from trio~=0.17->selenium) (1.10)\n",
      "Requirement already satisfied: outcome in c:\\users\\vishal\\anaconda3\\lib\\site-packages (from trio~=0.17->selenium) (1.2.0)\n",
      "Requirement already satisfied: cffi>=1.14 in c:\\users\\vishal\\anaconda3\\lib\\site-packages (from trio~=0.17->selenium) (1.15.0)\n",
      "Requirement already satisfied: attrs>=19.2.0 in c:\\users\\vishal\\anaconda3\\lib\\site-packages (from trio~=0.17->selenium) (21.4.0)\n",
      "Requirement already satisfied: exceptiongroup>=1.0.0rc9 in c:\\users\\vishal\\anaconda3\\lib\\site-packages (from trio~=0.17->selenium) (1.1.0)\n",
      "Requirement already satisfied: sniffio in c:\\users\\vishal\\anaconda3\\lib\\site-packages (from trio~=0.17->selenium) (1.2.0)\n",
      "Requirement already satisfied: sortedcontainers in c:\\users\\vishal\\anaconda3\\lib\\site-packages (from trio~=0.17->selenium) (2.4.0)\n",
      "Requirement already satisfied: pycparser in c:\\users\\vishal\\anaconda3\\lib\\site-packages (from cffi>=1.14->trio~=0.17->selenium) (2.21)\n",
      "Requirement already satisfied: wsproto>=0.14 in c:\\users\\vishal\\anaconda3\\lib\\site-packages (from trio-websocket~=0.9->selenium) (1.2.0)\n",
      "Requirement already satisfied: PySocks!=1.5.7,<2.0,>=1.5.6 in c:\\users\\vishal\\anaconda3\\lib\\site-packages (from urllib3[socks]~=1.26->selenium) (1.7.1)\n",
      "Requirement already satisfied: h11<1,>=0.9.0 in c:\\users\\vishal\\anaconda3\\lib\\site-packages (from wsproto>=0.14->trio-websocket~=0.9->selenium) (0.14.0)\n"
     ]
    }
   ],
   "source": [
    "!pip install selenium"
   ]
  },
  {
   "cell_type": "code",
   "execution_count": 2,
   "id": "2f317e68",
   "metadata": {},
   "outputs": [],
   "source": [
    "import selenium\n",
    "import pandas as pd\n",
    "from selenium import webdriver\n",
    "import warnings\n",
    "warnings.filterwarnings('ignore')\n",
    "from selenium.common.exceptions import StaleElementReferenceException, NoSuchElementException\n",
    "from selenium.webdriver.common.by import By\n",
    "import time"
   ]
  },
  {
   "cell_type": "markdown",
   "id": "9fe39f40",
   "metadata": {},
   "source": [
    "1. Write a python program which searches all the product under a particular product from www.amazon.in. The product to be searched will be taken as input from user. For e.g. If user input is ‘guitar’. Then search for guitars."
   ]
  },
  {
   "cell_type": "code",
   "execution_count": 45,
   "id": "3e9cf4a6",
   "metadata": {},
   "outputs": [],
   "source": [
    "driver=webdriver.Chrome(r\"chromedriver.exe\")"
   ]
  },
  {
   "cell_type": "code",
   "execution_count": 46,
   "id": "59582e97",
   "metadata": {},
   "outputs": [],
   "source": [
    "driver.get(\"https://www.amazon.in/\")"
   ]
  },
  {
   "cell_type": "code",
   "execution_count": 47,
   "id": "a25551be",
   "metadata": {},
   "outputs": [],
   "source": [
    "product=driver.find_element(By.XPATH,'/html/body/div[1]/header/div/div[1]/div[2]/div/form/div[2]/div[1]/input')\n",
    "product.send_keys('guitars')"
   ]
  },
  {
   "cell_type": "code",
   "execution_count": 48,
   "id": "ecdd3a57",
   "metadata": {},
   "outputs": [],
   "source": [
    "search=driver.find_element(By.XPATH,'/html/body/div[1]/header/div/div[1]/div[2]/div/form/div[3]/div/span/input')\n",
    "search.click()"
   ]
  },
  {
   "cell_type": "code",
   "execution_count": 41,
   "id": "18d7a11b",
   "metadata": {},
   "outputs": [],
   "source": [
    "product_url=[]"
   ]
  },
  {
   "cell_type": "code",
   "execution_count": 42,
   "id": "b2b2c18a",
   "metadata": {},
   "outputs": [],
   "source": [
    "start=0\n",
    "end=3\n",
    "for page in range(start,end):\n",
    "    try:\n",
    "        url=driver.find_elements(By.XPATH,'//a[@class=\"a-link-normal s-no-outline\"]')\n",
    "        for i in url[0:10]:\n",
    "            product_url.append(i.get_attribute(\"href\"))\n",
    "    except NoSuchElementException:\n",
    "        product_url.append('-')\n",
    "        next_button=driver.find_element(By.XPATH,'//a[@class=\"s-pagination-item s-pagination-next s-pagination-button s-pagination-separator\"]')\n",
    "        next_button.click()\n",
    "        time.sleep(2)"
   ]
  },
  {
   "cell_type": "code",
   "execution_count": 43,
   "id": "9884473c",
   "metadata": {},
   "outputs": [
    {
     "data": {
      "text/plain": [
       "30"
      ]
     },
     "execution_count": 43,
     "metadata": {},
     "output_type": "execute_result"
    }
   ],
   "source": [
    "len(product_url)"
   ]
  },
  {
   "cell_type": "code",
   "execution_count": 51,
   "id": "f73f8e66",
   "metadata": {},
   "outputs": [],
   "source": [
    "name=driver.find_element(By.XPATH,'/html/body/div[1]/div[2]/div[1]/div[1]/div/span[1]/div[1]/div[3]/div/div/div/div/div/div/div[1]/span/a/div/img')\n",
    "name.click()"
   ]
  },
  {
   "cell_type": "code",
   "execution_count": 50,
   "id": "f3352305",
   "metadata": {},
   "outputs": [],
   "source": [
    "brand_name=[]\n",
    "name_product=[]\n",
    "price_required=[]\n",
    "returns_exchange=[]\n",
    "delivery_required=[]\n",
    "availability_required=[]"
   ]
  },
  {
   "cell_type": "code",
   "execution_count": 53,
   "id": "6dac7098",
   "metadata": {},
   "outputs": [],
   "source": [
    "for url in product_url:\n",
    "    driver.get(url)\n",
    "    time.sleep(2)\n",
    "    \n",
    "    try:\n",
    "        brand=driver.find_elements(By.XPATH,'//div[@class=\"a-section a-spacing-small a-spacing-top-small\"]/table/tbody/tr/td[2]/span')\n",
    "        for i in brand:\n",
    "            brand_name.append(i.text)\n",
    "    except NoSuchElementExecption:\n",
    "        brand_name.append('-')\n",
    "    try:\n",
    "        name=driver.find_elements(By.XPATH,'//div[@class=\"a-section a-spacing-none\"]/h1/span')\n",
    "        for i in name:\n",
    "            name_product.append(i.text)\n",
    "    except NoSuchElementException:\n",
    "        name_product.append('-')\n",
    "    try:\n",
    "        price=driver.find_elements(By.XPATH,'//span[@class=\"a-price-whole\"]')\n",
    "        for i in price:\n",
    "            price_required.append(i.text)\n",
    "    except NoSuchElementException:\n",
    "        price_required.append('-')\n",
    "    try:\n",
    "        exchange=driver.find_elements(By.XPATH,'//a[@class=\"a-size-small a-link-normal a-text-normal\"]')\n",
    "        for i in exchange:\n",
    "            returns_exchange.append(i.text)\n",
    "    except NoSuchElementException:\n",
    "        returns_exchange.append('-')\n",
    "    try:\n",
    "        delivery=driver.find_elements(By.XPATH,'//div[@class=\"a-spacing-base\"]')\n",
    "        for i in delivery:\n",
    "            delivery_required.append(i.text)\n",
    "    except NoSuchElementException:\n",
    "        delivery_required.append('-')\n",
    "        \n",
    "    try:\n",
    "        availability=driver.find_elements(By.XPATH,'//div[@class=\"a-section a-spacing-none a-spacing-top-micro }\"]')\n",
    "        for i in availability:\n",
    "            availability_required.append(i.text)\n",
    "    except NoSuchElementException:\n",
    "        availability_required.append('-')"
   ]
  },
  {
   "cell_type": "code",
   "execution_count": 54,
   "id": "e8ff8728",
   "metadata": {},
   "outputs": [
    {
     "data": {
      "text/plain": [
       "(300, 60, 231, 294, 66, 60)"
      ]
     },
     "execution_count": 54,
     "metadata": {},
     "output_type": "execute_result"
    }
   ],
   "source": [
    "len(brand_name),len(name_product),len(price_required),len(returns_exchange),len(delivery_required),len(availability_required)"
   ]
  },
  {
   "cell_type": "markdown",
   "id": "3cb3f431",
   "metadata": {},
   "source": [
    "3. Write a python program to access the search bar and search button on images.google.com and scrape 10 images each for keywords ‘fruits’, ‘cars’ and ‘Machine Learning’, ‘Guitar’, ‘Cakes’."
   ]
  },
  {
   "cell_type": "code",
   "execution_count": 229,
   "id": "156a27a8",
   "metadata": {},
   "outputs": [],
   "source": [
    "driver=webdriver.Chrome(r\"chromedriver.exe\")"
   ]
  },
  {
   "cell_type": "code",
   "execution_count": 230,
   "id": "a3ce5642",
   "metadata": {},
   "outputs": [],
   "source": [
    "driver.get('https://www.google.com/')"
   ]
  },
  {
   "cell_type": "code",
   "execution_count": 231,
   "id": "7b1d19ac",
   "metadata": {},
   "outputs": [],
   "source": [
    "name=driver.find_element(By.XPATH,'/html/body/div[1]/div[3]/form/div[1]/div[1]/div[1]/div/div[2]/input')\n",
    "name.send_keys('Fruits')"
   ]
  },
  {
   "cell_type": "code",
   "execution_count": 233,
   "id": "59d00c2b",
   "metadata": {},
   "outputs": [],
   "source": [
    "search=driver.find_element(By.XPATH,'//input[@class=\"gNO89b\"]')\n",
    "search.click()"
   ]
  },
  {
   "cell_type": "code",
   "execution_count": 234,
   "id": "86c54765",
   "metadata": {},
   "outputs": [],
   "source": [
    "images=driver.find_element(By.XPATH,'/html/body/div[7]/div/div[4]/div/div[1]/div/div[1]/div/div[2]/a')\n",
    "images.click()"
   ]
  },
  {
   "cell_type": "code",
   "execution_count": 237,
   "id": "8bf2180f",
   "metadata": {},
   "outputs": [
    {
     "ename": "NameError",
     "evalue": "name 'breakBy' is not defined",
     "output_type": "error",
     "traceback": [
      "\u001b[1;31m---------------------------------------------------------------------------\u001b[0m",
      "\u001b[1;31mNameError\u001b[0m                                 Traceback (most recent call last)",
      "Input \u001b[1;32mIn [237]\u001b[0m, in \u001b[0;36m<cell line: 13>\u001b[1;34m()\u001b[0m\n\u001b[0;32m     13\u001b[0m \u001b[38;5;28;01mfor\u001b[39;00m i \u001b[38;5;129;01min\u001b[39;00m \u001b[38;5;28mrange\u001b[39m(\u001b[38;5;28mlen\u001b[39m(img_url)):\n\u001b[0;32m     14\u001b[0m     \u001b[38;5;28;01mif\u001b[39;00m i \u001b[38;5;241m>\u001b[39m \u001b[38;5;241m10\u001b[39m:\n\u001b[1;32m---> 15\u001b[0m         \u001b[43mbreakBy\u001b[49m\u001b[38;5;241m.\u001b[39mXPATH,\n\u001b[0;32m     16\u001b[0m         \u001b[38;5;28mprint\u001b[39m(\u001b[38;5;124m\"\u001b[39m\u001b[38;5;124mDowloading \u001b[39m\u001b[38;5;132;01m{0}\u001b[39;00m\u001b[38;5;124m of \u001b[39m\u001b[38;5;132;01m{10}\u001b[39;00m\u001b[38;5;124m images\u001b[39m\u001b[38;5;124m\"\u001b[39m \u001b[38;5;241m.\u001b[39mformat(i, \u001b[38;5;241m10\u001b[39m))\n\u001b[0;32m     17\u001b[0m         response\u001b[38;5;241m=\u001b[39mrequests\u001b[38;5;241m.\u001b[39mget(img_url[i])\n",
      "\u001b[1;31mNameError\u001b[0m: name 'breakBy' is not defined"
     ]
    }
   ],
   "source": [
    "for images in range(10):\n",
    "    driver.execute_script(\"window.scrollBy(0,1000)\")\n",
    "images=driver.find_elements(By.XPATH,'//img[@class=\"rg_i Q4LuWd\"]')\n",
    "\n",
    "img_url=[]\n",
    "img_data=[]\n",
    "for image in images:\n",
    "    source=image.get_attribute('src')\n",
    "    if source is not None:\n",
    "        if(source[0:4]==('http')):\n",
    "            img_url.append(source)\n",
    "\n",
    "for i in range(len(img_url)):\n",
    "    if i > 10:\n",
    "        breakBy.XPATH,\n",
    "        print(\"Dowloading {0} of {10} images\" .format(i, 10))\n",
    "        response=requests.get(img_url[i])\n",
    "        file=open(r\"C:\\Users\\VISHAL\\OneDrive\\Desktop\\Internship Documents\"+str(i)+\".jpg\",\"wb\")\n",
    "        file.write(response.content)  "
   ]
  },
  {
   "cell_type": "markdown",
   "id": "aee6e664",
   "metadata": {},
   "source": [
    "4. Write a python program to search for a smartphone(e.g.: Oneplus Nord, pixel 4A, etc.) on www.flipkart.com and scrape following details for all the search results displayed on 1st page. Details to be scraped: “Brand Name”, “Smartphone name”, “Colour”, “RAM”, “Storage(ROM)”, “Primary Camera”,“Secondary Camera”, “Display Size”, “Battery Capacity”, “Price”, “Product URL”. Incase if any of the details is missing then replace it by “- “. Save your results in a dataframe and CSV."
   ]
  },
  {
   "cell_type": "code",
   "execution_count": 103,
   "id": "ac44354b",
   "metadata": {},
   "outputs": [],
   "source": [
    "driver=webdriver.Chrome(r\"chromedriver.exe\")"
   ]
  },
  {
   "cell_type": "code",
   "execution_count": 104,
   "id": "3772f5e2",
   "metadata": {},
   "outputs": [],
   "source": [
    "driver.get(\"https://www.flipkart.com/\")"
   ]
  },
  {
   "cell_type": "code",
   "execution_count": 105,
   "id": "a2e3c03b",
   "metadata": {},
   "outputs": [],
   "source": [
    "product=driver.find_element(By.XPATH,'/html/body/div[1]/div/div[1]/div[1]/div[2]/div[2]/form/div/div/input')\n",
    "product.send_keys('Oneplus Nord')"
   ]
  },
  {
   "cell_type": "code",
   "execution_count": 106,
   "id": "b4af7b55",
   "metadata": {},
   "outputs": [],
   "source": [
    "search=driver.find_element(By.XPATH,'/html/body/div[1]/div/div[1]/div[1]/div[2]/div[2]/form/div/button')\n",
    "search.click()"
   ]
  },
  {
   "cell_type": "code",
   "execution_count": 110,
   "id": "448f5fd4",
   "metadata": {},
   "outputs": [],
   "source": [
    "products=driver.find_element(By.XPATH,'/html/body/div[1]/div/div[3]/div[1]/div[2]/div[6]/div/div/div/a/div[1]/div[1]/div/div/img')\n",
    "products.click()"
   ]
  },
  {
   "cell_type": "code",
   "execution_count": 107,
   "id": "907cd5f4",
   "metadata": {},
   "outputs": [],
   "source": [
    "product_url=[]"
   ]
  },
  {
   "cell_type": "code",
   "execution_count": 108,
   "id": "40374e74",
   "metadata": {},
   "outputs": [],
   "source": [
    "start=0\n",
    "end=1\n",
    "for page in range(start,end):\n",
    "    try:\n",
    "        url=driver.find_elements(By.XPATH,'//a[@class=\"_1fQZEK\"]')\n",
    "        for i in url:\n",
    "            product_url.append(i.get_attribute(\"href\"))\n",
    "    except NoSuchElementExecption:\n",
    "        product_url.append('-')\n",
    "        next_button=driver.find_element(By.XPATH,'/html/body/div[1]/div/div[3]/div[1]/div[2]/div[26]/div/div/nav/a[4]')\n",
    "        next_button.click()\n",
    "        time.sleep(2)"
   ]
  },
  {
   "cell_type": "code",
   "execution_count": 109,
   "id": "7ed43433",
   "metadata": {},
   "outputs": [
    {
     "data": {
      "text/plain": [
       "24"
      ]
     },
     "execution_count": 109,
     "metadata": {},
     "output_type": "execute_result"
    }
   ],
   "source": [
    "len(product_url)"
   ]
  },
  {
   "cell_type": "code",
   "execution_count": 111,
   "id": "233229ad",
   "metadata": {},
   "outputs": [],
   "source": [
    "brand_name=[]\n",
    "phone_name=[]\n",
    "colour_required=[]\n",
    "ram_space=[]\n",
    "storage_rom=[]\n",
    "pri_cam=[]\n",
    "sec_cam=[]\n",
    "display_size=[]\n",
    "battery_capacity=[]\n",
    "price_required=[]"
   ]
  },
  {
   "cell_type": "code",
   "execution_count": 122,
   "id": "af55b634",
   "metadata": {},
   "outputs": [],
   "source": [
    "for url in product_url:\n",
    "    driver.get(url)\n",
    "    time.sleep(2)\n",
    "    \n",
    "    try:\n",
    "        brand=driver.find_elements(By.XPATH,'//div[@class=\"_3nWYNs\"]/img')\n",
    "        for i in brand:\n",
    "            brand_name.append(i.text)\n",
    "    except NoSuchElementExecption:\n",
    "        brand_name.append('-')\n",
    "    try:\n",
    "        name=driver.find_elements(By.XPATH,'//div[@class=\"_3k-BhJ\"][1]/table/tbody/tr[3]/td[2]/ul/li')\n",
    "        for i in name:\n",
    "            phone_name.append(i.text)\n",
    "    except NoSuchElementException:\n",
    "        phone_name.append('-')\n",
    "    \n",
    "    try:\n",
    "        colour=driver.find_elements(By.XPATH,'//div[@class=\"_3k-BhJ\"][1]/table/tbody/tr[4]/td[2]/ul/li')\n",
    "        for i in colour:\n",
    "            colour_required.append(i.text)\n",
    "    except NoSuchElementException:\n",
    "        colour_required.append('-')\n",
    "        try:\n",
    "            ram=driver.find_elements(By.XPATH,'//div[@class=\"_3k-BhJ\"][4]/table/tbody/tr[2]/td[2]/ul/li')\n",
    "            for i in ram: \n",
    "                ram_space.append(i.text)\n",
    "        except NoSuchElementException:\n",
    "            ram_space.append('-')\n",
    "        try:\n",
    "            rom=driver.find_elements(By.XPATH,'//div[@class=\"_3k-BhJ\"][4]/table/tbody/tr/td[2]/ul/li')\n",
    "            for i in rom:\n",
    "                storage_rom.append(i.text)\n",
    "        except NoSuchElementException:\n",
    "            storage_rom.append('-')\n",
    "        try:\n",
    "            pri=driver.find_elements(By.XPATH,'//div[@class=\"_3k-BhJ\"][5]/table/tbody/tr/td[2]/ul/li')\n",
    "            for i in pri:\n",
    "                pri_cam.append(i.text)\n",
    "        except NoSuchElementException:\n",
    "            pri_cam.append('-')\n",
    "        try:\n",
    "            sec=driver.find_elements(By.XPATH,'//div[@class=\"_3k-BhJ\"][5]/table/tbody/tr[6]/td[2]/ul/li')\n",
    "            for i in sec:\n",
    "                sec_cam.append(i.text)\n",
    "        except NoSuchElementException:\n",
    "            sec_cam.append('-')\n",
    "        try:\n",
    "            display=driver.find_elements(By.XPATH,'//div[@class=\"_3k-BhJ\"][2]/table/tbody/tr/td[2]/ul/li')\n",
    "            for i in display:\n",
    "                display_size.append(i.text)\n",
    "        except NoSuchElementException:\n",
    "            display_size.append('-')\n",
    "        try:\n",
    "            battery=driver.find_elements(By.XPATH,'//div[@class=\"_3k-BhJ\"][7]/table/tbody/tr/td[2]/ul/li')\n",
    "            for i in battery:\n",
    "                battery_capacity.append(i.text)\n",
    "        except NoSuchElementException:\n",
    "            battery_capacity.append('-')\n",
    "        try:\n",
    "            price=driver.find_elements(By.XPATH,'//div[@class=\"_30jeq3 _16Jk6d\"]')\n",
    "            for i in price:\n",
    "                price_required.append(i.text)\n",
    "        except NoSuchElementException:\n",
    "            price_required.append('-')"
   ]
  },
  {
   "cell_type": "code",
   "execution_count": 123,
   "id": "d3e28edc",
   "metadata": {},
   "outputs": [
    {
     "data": {
      "text/plain": [
       "(215, 215, 215, 0, 0, 0, 0, 0, 0, 0)"
      ]
     },
     "execution_count": 123,
     "metadata": {},
     "output_type": "execute_result"
    }
   ],
   "source": [
    "len(brand_name),len(phone_name),len(colour_required),len(ram_space),len(storage_rom),len(pri_cam),len(sec_cam),len(display_size),len(battery_capacity),len(price_required)"
   ]
  },
  {
   "cell_type": "markdown",
   "id": "008f3190",
   "metadata": {},
   "source": [
    "5. Write a program to scrap geospatial coordinates (latitude, longitude) of a city searched on google maps"
   ]
  },
  {
   "cell_type": "code",
   "execution_count": 92,
   "id": "95fc7817",
   "metadata": {},
   "outputs": [],
   "source": [
    "driver=webdriver.Chrome(r\"chromedriver.exe\")"
   ]
  },
  {
   "cell_type": "code",
   "execution_count": 93,
   "id": "7a7108d7",
   "metadata": {},
   "outputs": [],
   "source": [
    "driver.get('https://www.google.com/maps')"
   ]
  },
  {
   "cell_type": "code",
   "execution_count": 94,
   "id": "dd70d4d9",
   "metadata": {},
   "outputs": [],
   "source": [
    "name=driver.find_element(By.XPATH,'/html/body/div[3]/div[9]/div[3]/div[1]/div[1]/div[1]/div[2]/form/div[2]/div[3]/div/input[1]')\n",
    "name.send_keys('Delhi')"
   ]
  },
  {
   "cell_type": "code",
   "execution_count": 95,
   "id": "5d47a42c",
   "metadata": {},
   "outputs": [],
   "source": [
    "search=driver.find_element(By.XPATH,'/html/body/div[3]/div[9]/div[3]/div[1]/div[1]/div[1]/div[2]/div[1]/button')\n",
    "search.click()"
   ]
  },
  {
   "cell_type": "code",
   "execution_count": 98,
   "id": "3ecd498e",
   "metadata": {},
   "outputs": [],
   "source": [
    "url_string=[]\n",
    "import re"
   ]
  },
  {
   "cell_type": "code",
   "execution_count": 100,
   "id": "66af6251",
   "metadata": {},
   "outputs": [
    {
     "name": "stdout",
     "output_type": "stream",
     "text": [
      "URL Extracted: https://www.google.com/maps/place/Delhi/@28.6437953,76.8130208,10z/data=!4m6!3m5!1s0x390cfd5b347eb62d:0x37205b715389640!8m2!3d28.7040592!4d77.1024902!16zL20vMDlmMDc\n",
      "Error: 'str' object has no attribute 'lng'\n"
     ]
    }
   ],
   "source": [
    "try:\n",
    "    url_string=driver.current_url\n",
    "    print(\"URL Extracted:\",url_string)\n",
    "    lat_lng=re.findall(r'@(.*)data',url_string)\n",
    "    if len(lat_lng):\n",
    "        lat_lng_list=lat_lng[0].split(\",\")\n",
    "        if len(lat_lng_list)>=2:\n",
    "            lat=lat_lng_list[0]\n",
    "            lng=lat_lng_list[1]\n",
    "        print(\"Latitude={},Longitutde={}\".format(lat.lng))\n",
    "        \n",
    "except Exception as e:\n",
    "    print(\"Error:\",str(e))"
   ]
  },
  {
   "cell_type": "markdown",
   "id": "e7caf964",
   "metadata": {},
   "source": [
    "6. Write a program to scrap all the available details of best gaming laptops from digit.in."
   ]
  },
  {
   "cell_type": "code",
   "execution_count": 124,
   "id": "a8d26012",
   "metadata": {},
   "outputs": [],
   "source": [
    "driver=webdriver.Chrome(r\"chromedriver.exe\")"
   ]
  },
  {
   "cell_type": "code",
   "execution_count": 125,
   "id": "3e7731e6",
   "metadata": {},
   "outputs": [],
   "source": [
    "driver.get(\"https://www.digit.in/\")"
   ]
  },
  {
   "cell_type": "code",
   "execution_count": 126,
   "id": "efe985a6",
   "metadata": {},
   "outputs": [],
   "source": [
    "top=driver.find_element(By.XPATH,'/html/body/div[1]/div/div[4]/ul/li[4]/a')\n",
    "top.click()"
   ]
  },
  {
   "cell_type": "code",
   "execution_count": 127,
   "id": "c6e027a1",
   "metadata": {},
   "outputs": [],
   "source": [
    "laptop=driver.find_element(By.XPATH,'/html/body/div[7]/div/div/div[2]/div[5]/div[1]/div/button[2]')\n",
    "laptop.click()"
   ]
  },
  {
   "cell_type": "code",
   "execution_count": 129,
   "id": "4598c900",
   "metadata": {},
   "outputs": [],
   "source": [
    "gaming=driver.find_element(By.XPATH,'/html/body/div[7]/div/div/div[2]/div[5]/div[3]/div[3]/a/div[2]/p')\n",
    "gaming.click()"
   ]
  },
  {
   "cell_type": "code",
   "execution_count": 130,
   "id": "cc3b3160",
   "metadata": {},
   "outputs": [],
   "source": [
    "processor_required=[]\n",
    "display_size=[]\n",
    "OS_required=[]\n",
    "memory_space=[]\n",
    "processor_graphic=[]\n",
    "body_required=[]"
   ]
  },
  {
   "cell_type": "code",
   "execution_count": 131,
   "id": "cb804a15",
   "metadata": {},
   "outputs": [],
   "source": [
    "try:\n",
    "    processor=driver.find_elements(By.XPATH,'//div[@class=\"Spcs-details\"]/table/tbody/tr[2]/td[3]')\n",
    "    for i in processor:\n",
    "        processor_required.append(i.text)\n",
    "except NoSuchElementException:\n",
    "    processor_required.append('-')\n",
    "\n",
    "try:\n",
    "    display=driver.find_elements(By.XPATH,'//div[@class=\"Spcs-details\"]/table/tbody/tr[3]/td[3]')\n",
    "    for i in display:\n",
    "        display_size.append(i.text)\n",
    "except NoSuchElementException:\n",
    "    display_size.appedn('-')\n",
    "try:\n",
    "    OS=driver.find_elements(By.XPATH,'//div[@class=\"Spcs-details\"]/table/tbody/tr[4]/td[3]')\n",
    "    for i in OS:\n",
    "        OS_required.append(i.text)\n",
    "except NoSuchElementException:\n",
    "    OS_required.append('-')\n",
    "    \n",
    "try:\n",
    "    memory=driver.find_elements(By.XPATH,'//div[@class=\"Spcs-details\"]/table/tbody/tr[5]/td[3]')\n",
    "    for i in memory:\n",
    "        memory_space.append(i.text)\n",
    "except NoSuchElementException:\n",
    "    memory_space.append('-')\n",
    "\n",
    "try:\n",
    "    processor=driver.find_elements(By.XPATH,'//div[@class=\"Spcs-details\"]/table/tbody/tr[6]/td[3]')\n",
    "    for i in processor:\n",
    "        processor_graphic.append(i.text)\n",
    "except NoSuchElementException:\n",
    "    processor_graphic.append('-')\n",
    "    \n",
    "try:\n",
    "    body=driver.find_elements(By.XPATH,'//div[@class=\"Spcs-details\"]/table/tbody/tr[7]/td[3]')\n",
    "    for i in body:\n",
    "        body_required.append(i.text)\n",
    "except NoSuchElementException:\n",
    "    body_required.append('-')"
   ]
  },
  {
   "cell_type": "code",
   "execution_count": 132,
   "id": "21b2faee",
   "metadata": {},
   "outputs": [
    {
     "data": {
      "text/plain": [
       "(10, 10, 10, 10, 10, 10)"
      ]
     },
     "execution_count": 132,
     "metadata": {},
     "output_type": "execute_result"
    }
   ],
   "source": [
    "len(processor_required),len(display_size),len(OS_required),len(memory_space),len(processor_graphic),len(body_required)"
   ]
  },
  {
   "cell_type": "code",
   "execution_count": 134,
   "id": "8f6b3a8f",
   "metadata": {},
   "outputs": [
    {
     "data": {
      "text/html": [
       "<div>\n",
       "<style scoped>\n",
       "    .dataframe tbody tr th:only-of-type {\n",
       "        vertical-align: middle;\n",
       "    }\n",
       "\n",
       "    .dataframe tbody tr th {\n",
       "        vertical-align: top;\n",
       "    }\n",
       "\n",
       "    .dataframe thead th {\n",
       "        text-align: right;\n",
       "    }\n",
       "</style>\n",
       "<table border=\"1\" class=\"dataframe\">\n",
       "  <thead>\n",
       "    <tr style=\"text-align: right;\">\n",
       "      <th></th>\n",
       "      <th>Processor</th>\n",
       "      <th>Display</th>\n",
       "      <th>OS</th>\n",
       "      <th>Memory</th>\n",
       "      <th>Graphic Processor</th>\n",
       "      <th>Body</th>\n",
       "    </tr>\n",
       "  </thead>\n",
       "  <tbody>\n",
       "    <tr>\n",
       "      <th>0</th>\n",
       "      <td>12th Gen Intel Core i9-12900HX 16 core processor</td>\n",
       "      <td>17.3″ (3840 x 2160) screen, 120 Hz refresh rate</td>\n",
       "      <td>Windows 11 Home</td>\n",
       "      <td>64 GB DDR5 RAM &amp; 2 TB SSD</td>\n",
       "      <td>16 GB DDR6 NVIDIA GeForce RTX 3080 Ti Graphics...</td>\n",
       "      <td>397 x 330 x 23 mm dimension &amp; 3.3 kg weight</td>\n",
       "    </tr>\n",
       "    <tr>\n",
       "      <th>1</th>\n",
       "      <td>12th Gen Intel Core i9-12900HX 16 core process...</td>\n",
       "      <td>16″ (2560 x 1600) screen, 165 Hz refresh rate</td>\n",
       "      <td>Windows 11 Home</td>\n",
       "      <td>32 GB DDR4 RAM &amp; 1 TB SSD</td>\n",
       "      <td>16 GB DDR6 NVIDIA GeForce RTX 3080 Ti Graphics...</td>\n",
       "      <td>358 x 264 x 19 mm dimension &amp; 2.53 kg weight</td>\n",
       "    </tr>\n",
       "    <tr>\n",
       "      <th>2</th>\n",
       "      <td>12th Gen Intel Core i9-12900H 14 core processo...</td>\n",
       "      <td>17.3″ (1920 x 1080) screen, 360 Hz refresh rate</td>\n",
       "      <td>Windows 11 Home</td>\n",
       "      <td>32 GB DDR5 RAM &amp; 1 TB SSD</td>\n",
       "      <td>16 GB DDR6 NVIDIA GEFORCE RTX 3080 Ti Graphics...</td>\n",
       "      <td>299 x 359 x 21 mm dimension &amp; 2.96 kg weight</td>\n",
       "    </tr>\n",
       "    <tr>\n",
       "      <th>3</th>\n",
       "      <td>12th Gen Intel Core i7-12700H 14 core processo...</td>\n",
       "      <td>16″ (2560 x 1600) screen</td>\n",
       "      <td>Windows 11</td>\n",
       "      <td>32 GB DDR5 RAM &amp; 2 TB SSD</td>\n",
       "      <td>8 GB DDR6 NVIDIA GeForce RTX 3070 Ti Graphics ...</td>\n",
       "      <td>262 x 359 x 20 mm dimension &amp; 2.4 kg weight</td>\n",
       "    </tr>\n",
       "    <tr>\n",
       "      <th>4</th>\n",
       "      <td>12th Gen Intel Core i7-12700H 14 core processo...</td>\n",
       "      <td>16.1″ (2560 x 1440) screen</td>\n",
       "      <td>Windows 11 Home</td>\n",
       "      <td>8 GB DDR5 RAM &amp; 1 TB SSD</td>\n",
       "      <td>8 GB GDDR6 NVIDIA GeForce RTX 3070 Graphics card</td>\n",
       "      <td>369 x 248 x 23 mm dimension &amp; 2.32 kg weight</td>\n",
       "    </tr>\n",
       "    <tr>\n",
       "      <th>5</th>\n",
       "      <td>AMD Ryzen 9-5900HX 8 core processor</td>\n",
       "      <td>15.6″ (2560 x 1440) screen, 165 Hz refresh rate</td>\n",
       "      <td>Windows 11 Home</td>\n",
       "      <td>16 GB DDR4 RAM &amp; 512 GB SSD</td>\n",
       "      <td>8 GB DDR6 NVIDIA GeForce RTX 3070 Graphics card</td>\n",
       "      <td>363 x 255 x 23.9 mm dimension &amp; 2.4 kg weight</td>\n",
       "    </tr>\n",
       "    <tr>\n",
       "      <th>6</th>\n",
       "      <td>AMD 5th Gen Ryzen 9-5900HX 8 core processor wi...</td>\n",
       "      <td>15.6″ (1920 x 1080) screen, 240Hz refresh rate</td>\n",
       "      <td>Windows 11 Home</td>\n",
       "      <td>16 GB DDR4 RAM &amp; 1 TB SSD</td>\n",
       "      <td>10 GB DDR6 AMD Radeon RX 6700M Graphics card</td>\n",
       "      <td>357 x 247 x 19 mm dimension &amp; 1.9 kg weight</td>\n",
       "    </tr>\n",
       "    <tr>\n",
       "      <th>7</th>\n",
       "      <td>AMD Ryzen™ 9 5900HX 8 core processor with 3.3 ...</td>\n",
       "      <td>16.1″ (2560 x 1440) screen</td>\n",
       "      <td>Windows 11 Home</td>\n",
       "      <td>16 GB DDR4 RAM &amp; 1 TB NVMe</td>\n",
       "      <td>8 GB GDDR6 AMD Radeon™ RX 6600M Graphics card</td>\n",
       "      <td>36.92 x 24.8 x 2.3 mm dimension &amp; 2.3 kg weight</td>\n",
       "    </tr>\n",
       "    <tr>\n",
       "      <th>8</th>\n",
       "      <td>12th Gen Intel Core i7-12700H 14 core processo...</td>\n",
       "      <td>16″ (2560 x 1600) screen, 165 Hz refresh rate</td>\n",
       "      <td>Windows 11 Home</td>\n",
       "      <td>16 GB DDR5 RAM &amp; 1 TB SSD</td>\n",
       "      <td>6 GB DDR6 NVIDIA GeForce RTX 3060 Graphics card</td>\n",
       "      <td>360 x 264 x 20 mm dimension &amp; 2.49 kg weight</td>\n",
       "    </tr>\n",
       "    <tr>\n",
       "      <th>9</th>\n",
       "      <td>AMD Ryzen R7-5800H 8 core processor with 4.40 ...</td>\n",
       "      <td>15.6″ (1920 x 1080) screen, 165Hz refresh rate</td>\n",
       "      <td>Windows 11 Home</td>\n",
       "      <td>16 GB DDR4 RAM &amp; 512 GB SSD</td>\n",
       "      <td>6 GB DDR6 NVIDIA GeForce RTX 3060 Graphics card</td>\n",
       "      <td>356.2 x 272.5 x 22.85 mm dimension &amp; 2.69 kg w...</td>\n",
       "    </tr>\n",
       "  </tbody>\n",
       "</table>\n",
       "</div>"
      ],
      "text/plain": [
       "                                           Processor  \\\n",
       "0   12th Gen Intel Core i9-12900HX 16 core processor   \n",
       "1  12th Gen Intel Core i9-12900HX 16 core process...   \n",
       "2  12th Gen Intel Core i9-12900H 14 core processo...   \n",
       "3  12th Gen Intel Core i7-12700H 14 core processo...   \n",
       "4  12th Gen Intel Core i7-12700H 14 core processo...   \n",
       "5                AMD Ryzen 9-5900HX 8 core processor   \n",
       "6  AMD 5th Gen Ryzen 9-5900HX 8 core processor wi...   \n",
       "7  AMD Ryzen™ 9 5900HX 8 core processor with 3.3 ...   \n",
       "8  12th Gen Intel Core i7-12700H 14 core processo...   \n",
       "9  AMD Ryzen R7-5800H 8 core processor with 4.40 ...   \n",
       "\n",
       "                                           Display               OS  \\\n",
       "0  17.3″ (3840 x 2160) screen, 120 Hz refresh rate  Windows 11 Home   \n",
       "1    16″ (2560 x 1600) screen, 165 Hz refresh rate  Windows 11 Home   \n",
       "2  17.3″ (1920 x 1080) screen, 360 Hz refresh rate  Windows 11 Home   \n",
       "3                         16″ (2560 x 1600) screen       Windows 11   \n",
       "4                       16.1″ (2560 x 1440) screen  Windows 11 Home   \n",
       "5  15.6″ (2560 x 1440) screen, 165 Hz refresh rate  Windows 11 Home   \n",
       "6   15.6″ (1920 x 1080) screen, 240Hz refresh rate  Windows 11 Home   \n",
       "7                       16.1″ (2560 x 1440) screen  Windows 11 Home   \n",
       "8    16″ (2560 x 1600) screen, 165 Hz refresh rate  Windows 11 Home   \n",
       "9   15.6″ (1920 x 1080) screen, 165Hz refresh rate  Windows 11 Home   \n",
       "\n",
       "                        Memory  \\\n",
       "0    64 GB DDR5 RAM & 2 TB SSD   \n",
       "1    32 GB DDR4 RAM & 1 TB SSD   \n",
       "2    32 GB DDR5 RAM & 1 TB SSD   \n",
       "3    32 GB DDR5 RAM & 2 TB SSD   \n",
       "4     8 GB DDR5 RAM & 1 TB SSD   \n",
       "5  16 GB DDR4 RAM & 512 GB SSD   \n",
       "6    16 GB DDR4 RAM & 1 TB SSD   \n",
       "7   16 GB DDR4 RAM & 1 TB NVMe   \n",
       "8    16 GB DDR5 RAM & 1 TB SSD   \n",
       "9  16 GB DDR4 RAM & 512 GB SSD   \n",
       "\n",
       "                                   Graphic Processor  \\\n",
       "0  16 GB DDR6 NVIDIA GeForce RTX 3080 Ti Graphics...   \n",
       "1  16 GB DDR6 NVIDIA GeForce RTX 3080 Ti Graphics...   \n",
       "2  16 GB DDR6 NVIDIA GEFORCE RTX 3080 Ti Graphics...   \n",
       "3  8 GB DDR6 NVIDIA GeForce RTX 3070 Ti Graphics ...   \n",
       "4   8 GB GDDR6 NVIDIA GeForce RTX 3070 Graphics card   \n",
       "5    8 GB DDR6 NVIDIA GeForce RTX 3070 Graphics card   \n",
       "6       10 GB DDR6 AMD Radeon RX 6700M Graphics card   \n",
       "7      8 GB GDDR6 AMD Radeon™ RX 6600M Graphics card   \n",
       "8    6 GB DDR6 NVIDIA GeForce RTX 3060 Graphics card   \n",
       "9    6 GB DDR6 NVIDIA GeForce RTX 3060 Graphics card   \n",
       "\n",
       "                                                Body  \n",
       "0        397 x 330 x 23 mm dimension & 3.3 kg weight  \n",
       "1       358 x 264 x 19 mm dimension & 2.53 kg weight  \n",
       "2       299 x 359 x 21 mm dimension & 2.96 kg weight  \n",
       "3        262 x 359 x 20 mm dimension & 2.4 kg weight  \n",
       "4       369 x 248 x 23 mm dimension & 2.32 kg weight  \n",
       "5      363 x 255 x 23.9 mm dimension & 2.4 kg weight  \n",
       "6        357 x 247 x 19 mm dimension & 1.9 kg weight  \n",
       "7    36.92 x 24.8 x 2.3 mm dimension & 2.3 kg weight  \n",
       "8       360 x 264 x 20 mm dimension & 2.49 kg weight  \n",
       "9  356.2 x 272.5 x 22.85 mm dimension & 2.69 kg w...  "
      ]
     },
     "execution_count": 134,
     "metadata": {},
     "output_type": "execute_result"
    }
   ],
   "source": [
    "import pandas as pd \n",
    "df=pd.DataFrame({'Processor':processor_required,'Display':display_size,'OS':OS_required,'Memory':memory_space,'Graphic Processor':processor_graphic,'Body':body_required})\n",
    "df"
   ]
  },
  {
   "cell_type": "markdown",
   "id": "53da453e",
   "metadata": {},
   "source": [
    "7. Write a python program to scrape the details for all billionaires from www.forbes.com. Details to be scrapped: “Rank”, “Name”, “Net worth”, “Age”, “Citizenship”, “Source”, “Industry”."
   ]
  },
  {
   "cell_type": "code",
   "execution_count": 135,
   "id": "688aa543",
   "metadata": {},
   "outputs": [],
   "source": [
    "driver=webdriver.Chrome(r\"chromedriver.exe\")"
   ]
  },
  {
   "cell_type": "code",
   "execution_count": 136,
   "id": "e0ac08ac",
   "metadata": {},
   "outputs": [],
   "source": [
    "driver.get(\"https://www.forbes.com/?sh=6b6b91ea2254\")"
   ]
  },
  {
   "cell_type": "code",
   "execution_count": 140,
   "id": "da639b68",
   "metadata": {},
   "outputs": [],
   "source": [
    "search=driver.find_element(By.XPATH,'/html/body/div[1]/header/nav/div[1]/div/div/div')\n",
    "search.click()"
   ]
  },
  {
   "cell_type": "code",
   "execution_count": 141,
   "id": "3d9f8944",
   "metadata": {},
   "outputs": [],
   "source": [
    "billionaires=driver.find_element(By.XPATH,'/html/body/div[1]/header/nav/div[1]/div/div/div[2]/ul/li[1]')\n",
    "billionaires.click()"
   ]
  },
  {
   "cell_type": "code",
   "execution_count": 143,
   "id": "ca7fbd13",
   "metadata": {},
   "outputs": [],
   "source": [
    "world=driver.find_element(By.XPATH,'/html/body/div[1]/header/nav/div[1]/div/div/div[2]/ul/li[1]/div[2]/div[3]/ul/li[1]/a')\n",
    "world.click()"
   ]
  },
  {
   "cell_type": "code",
   "execution_count": 144,
   "id": "4976974a",
   "metadata": {},
   "outputs": [],
   "source": [
    "rank_num=[]\n",
    "person_name=[]\n",
    "net_worth=[]\n",
    "age_num=[]\n",
    "citizenship_country=[]\n",
    "source_place=[]\n",
    "industry_required=[]"
   ]
  },
  {
   "cell_type": "code",
   "execution_count": 15,
   "id": "0f298245",
   "metadata": {},
   "outputs": [],
   "source": [
    "try:\n",
    "    rank=driver.find_elements(By.XPATH,'//div[@class=\"rank\"][1]')\n",
    "    for i in rank:\n",
    "        rank_num.append(i.text)\n",
    "except NoSuchElementException:\n",
    "    rank_num.append('-')\n",
    "\n",
    "try:\n",
    "    name=driver.find_elements(By.XPATH,'//div[@class=\"personName\"][1]')\n",
    "    for i in name:\n",
    "        person_name.append(i.text)\n",
    "except NoSuchElementException:\n",
    "    person_name.append('-')\n",
    "\n",
    "try:\n",
    "    net=driver.find_elements(By.XPATH,'//div[@class=\"netWorth\"][1]')\n",
    "    for i in net:\n",
    "        net_worth.append(i.text)\n",
    "except NoSuchElementException:\n",
    "    net_worth.append('-')\n",
    "\n",
    "try:\n",
    "    age =driver.find_elements(By.XPATH,'//div[@class=\"age\"]/div')\n",
    "    for i in age:\n",
    "        age_num.append(i.text)\n",
    "except NoSuchElementException:\n",
    "    age_num.append('-')\n",
    "try:\n",
    "    citizenship=driver.find_elements(By.XPATH,'//div[@class=\"countryOfCitizenship\"]')\n",
    "    for i in citizenship:\n",
    "        citizenship_country.append(i.text)\n",
    "except NoSuchElementException:\n",
    "    citizenship_country.append('-')\n",
    "try:\n",
    "    source=driver.find_elements(By.XPATH,'//div[@class=\"source\"]/div[1]')\n",
    "    for i in source:\n",
    "        source_place.append(i.text)\n",
    "except NoSuchElementException:\n",
    "    source_place.append('-')\n",
    "try:\n",
    "    industry=driver.find_elements(By.XPATH,'//div[@class=\"category\"]/div')\n",
    "    for i in industry:\n",
    "        industry_required.append(i.text)\n",
    "except NoSuchElementException:\n",
    "    industry_required.append('-')\n",
    "    "
   ]
  },
  {
   "cell_type": "code",
   "execution_count": 17,
   "id": "f2e99d71",
   "metadata": {},
   "outputs": [
    {
     "data": {
      "text/plain": [
       "(200, 200, 200, 200, 200, 200, 200)"
      ]
     },
     "execution_count": 17,
     "metadata": {},
     "output_type": "execute_result"
    }
   ],
   "source": [
    "len(rank_num),len(person_name),len(net_worth),len(age_num),len(citizenship_country),len(source_place),len(industry_required)"
   ]
  },
  {
   "cell_type": "code",
   "execution_count": 18,
   "id": "866c7db7",
   "metadata": {},
   "outputs": [
    {
     "data": {
      "text/html": [
       "<div>\n",
       "<style scoped>\n",
       "    .dataframe tbody tr th:only-of-type {\n",
       "        vertical-align: middle;\n",
       "    }\n",
       "\n",
       "    .dataframe tbody tr th {\n",
       "        vertical-align: top;\n",
       "    }\n",
       "\n",
       "    .dataframe thead th {\n",
       "        text-align: right;\n",
       "    }\n",
       "</style>\n",
       "<table border=\"1\" class=\"dataframe\">\n",
       "  <thead>\n",
       "    <tr style=\"text-align: right;\">\n",
       "      <th></th>\n",
       "      <th>Rank</th>\n",
       "      <th>Name</th>\n",
       "      <th>Net Worth</th>\n",
       "      <th>Age</th>\n",
       "      <th>Country/Territory</th>\n",
       "      <th>Source</th>\n",
       "      <th>Industry</th>\n",
       "    </tr>\n",
       "  </thead>\n",
       "  <tbody>\n",
       "    <tr>\n",
       "      <th>0</th>\n",
       "      <td>1.</td>\n",
       "      <td>Elon Musk</td>\n",
       "      <td>$219 B</td>\n",
       "      <td>50</td>\n",
       "      <td>United States</td>\n",
       "      <td>Tesla, SpaceX</td>\n",
       "      <td>Automotive</td>\n",
       "    </tr>\n",
       "    <tr>\n",
       "      <th>1</th>\n",
       "      <td>2.</td>\n",
       "      <td>Jeff Bezos</td>\n",
       "      <td>$171 B</td>\n",
       "      <td>58</td>\n",
       "      <td>United States</td>\n",
       "      <td>Amazon</td>\n",
       "      <td>Technology</td>\n",
       "    </tr>\n",
       "    <tr>\n",
       "      <th>2</th>\n",
       "      <td>3.</td>\n",
       "      <td>Bernard Arnault &amp; family</td>\n",
       "      <td>$158 B</td>\n",
       "      <td>73</td>\n",
       "      <td>France</td>\n",
       "      <td>LVMH</td>\n",
       "      <td>Fashion &amp; Retail</td>\n",
       "    </tr>\n",
       "    <tr>\n",
       "      <th>3</th>\n",
       "      <td>4.</td>\n",
       "      <td>Bill Gates</td>\n",
       "      <td>$129 B</td>\n",
       "      <td>66</td>\n",
       "      <td>United States</td>\n",
       "      <td>Microsoft</td>\n",
       "      <td>Technology</td>\n",
       "    </tr>\n",
       "    <tr>\n",
       "      <th>4</th>\n",
       "      <td>5.</td>\n",
       "      <td>Warren Buffett</td>\n",
       "      <td>$118 B</td>\n",
       "      <td>91</td>\n",
       "      <td>United States</td>\n",
       "      <td>Berkshire Hathaway</td>\n",
       "      <td>Finance &amp; Investments</td>\n",
       "    </tr>\n",
       "    <tr>\n",
       "      <th>...</th>\n",
       "      <td>...</td>\n",
       "      <td>...</td>\n",
       "      <td>...</td>\n",
       "      <td>...</td>\n",
       "      <td>...</td>\n",
       "      <td>...</td>\n",
       "      <td>...</td>\n",
       "    </tr>\n",
       "    <tr>\n",
       "      <th>195</th>\n",
       "      <td>192.</td>\n",
       "      <td>Marcel Herrmann Telles</td>\n",
       "      <td>$10.3 B</td>\n",
       "      <td>72</td>\n",
       "      <td>Brazil</td>\n",
       "      <td>beer</td>\n",
       "      <td>Food &amp; Beverage</td>\n",
       "    </tr>\n",
       "    <tr>\n",
       "      <th>196</th>\n",
       "      <td>197.</td>\n",
       "      <td>Leon Black</td>\n",
       "      <td>$10 B</td>\n",
       "      <td>70</td>\n",
       "      <td>United States</td>\n",
       "      <td>private equity</td>\n",
       "      <td>Finance &amp; Investments</td>\n",
       "    </tr>\n",
       "    <tr>\n",
       "      <th>197</th>\n",
       "      <td>197.</td>\n",
       "      <td>Joe Gebbia</td>\n",
       "      <td>$10 B</td>\n",
       "      <td>40</td>\n",
       "      <td>United States</td>\n",
       "      <td>Airbnb</td>\n",
       "      <td>Technology</td>\n",
       "    </tr>\n",
       "    <tr>\n",
       "      <th>198</th>\n",
       "      <td>197.</td>\n",
       "      <td>David Geffen</td>\n",
       "      <td>$10 B</td>\n",
       "      <td>79</td>\n",
       "      <td>United States</td>\n",
       "      <td>movies, record labels</td>\n",
       "      <td>Media &amp; Entertainment</td>\n",
       "    </tr>\n",
       "    <tr>\n",
       "      <th>199</th>\n",
       "      <td>197.</td>\n",
       "      <td>Yu Renrong</td>\n",
       "      <td>$10 B</td>\n",
       "      <td>56</td>\n",
       "      <td>China</td>\n",
       "      <td>semiconductors</td>\n",
       "      <td>Manufacturing</td>\n",
       "    </tr>\n",
       "  </tbody>\n",
       "</table>\n",
       "<p>200 rows × 7 columns</p>\n",
       "</div>"
      ],
      "text/plain": [
       "     Rank                      Name Net Worth Age Country/Territory  \\\n",
       "0      1.                 Elon Musk    $219 B  50     United States   \n",
       "1      2.                Jeff Bezos    $171 B  58     United States   \n",
       "2      3.  Bernard Arnault & family    $158 B  73            France   \n",
       "3      4.                Bill Gates    $129 B  66     United States   \n",
       "4      5.            Warren Buffett    $118 B  91     United States   \n",
       "..    ...                       ...       ...  ..               ...   \n",
       "195  192.    Marcel Herrmann Telles   $10.3 B  72            Brazil   \n",
       "196  197.                Leon Black     $10 B  70     United States   \n",
       "197  197.                Joe Gebbia     $10 B  40     United States   \n",
       "198  197.              David Geffen     $10 B  79     United States   \n",
       "199  197.                Yu Renrong     $10 B  56             China   \n",
       "\n",
       "                    Source               Industry  \n",
       "0            Tesla, SpaceX             Automotive  \n",
       "1                   Amazon             Technology  \n",
       "2                     LVMH       Fashion & Retail  \n",
       "3                Microsoft             Technology  \n",
       "4       Berkshire Hathaway  Finance & Investments  \n",
       "..                     ...                    ...  \n",
       "195                   beer        Food & Beverage  \n",
       "196         private equity  Finance & Investments  \n",
       "197                 Airbnb             Technology  \n",
       "198  movies, record labels  Media & Entertainment  \n",
       "199         semiconductors          Manufacturing  \n",
       "\n",
       "[200 rows x 7 columns]"
      ]
     },
     "execution_count": 18,
     "metadata": {},
     "output_type": "execute_result"
    }
   ],
   "source": [
    "import pandas as pd \n",
    "df=pd.DataFrame({'Rank':rank_num,'Name':person_name,'Net Worth':net_worth,'Age':age_num,'Country/Territory':citizenship_country,'Source':source_place,'Industry':industry_required})\n",
    "df"
   ]
  },
  {
   "cell_type": "markdown",
   "id": "c6bc5dbb",
   "metadata": {},
   "source": [
    "8. Write a program to extract at least 500 Comments, Comment upvote and time when comment was posted from any YouTube Video."
   ]
  },
  {
   "cell_type": "code",
   "execution_count": 3,
   "id": "b1b9caca",
   "metadata": {},
   "outputs": [],
   "source": [
    "driver=webdriver.Chrome(r\"chromedriver.exe\")"
   ]
  },
  {
   "cell_type": "code",
   "execution_count": 4,
   "id": "3cd45bc9",
   "metadata": {},
   "outputs": [],
   "source": [
    "driver.get(\"https://www.youtube.com/\")"
   ]
  },
  {
   "cell_type": "code",
   "execution_count": 5,
   "id": "9bf6106a",
   "metadata": {},
   "outputs": [],
   "source": [
    "videos=driver.find_element(By.XPATH,'/html/body/ytd-app/div[1]/ytd-page-manager/ytd-browse/ytd-two-column-browse-results-renderer/div[1]/ytd-rich-grid-renderer/div[6]/ytd-rich-grid-row[1]/div/ytd-rich-item-renderer[1]/div/ytd-rich-grid-media/div[1]/ytd-thumbnail/a/yt-image/img')\n",
    "videos.click()"
   ]
  },
  {
   "cell_type": "code",
   "execution_count": 11,
   "id": "54f129d6",
   "metadata": {},
   "outputs": [],
   "source": [
    "comments_mess=[]\n",
    "upvote_likes=[]\n",
    "time_day=[]"
   ]
  },
  {
   "cell_type": "code",
   "execution_count": 13,
   "id": "4cd9abc4",
   "metadata": {},
   "outputs": [],
   "source": [
    "try:\n",
    "    for comments in range(500):\n",
    "        driver.execute_script(\"window.scrollBy(0,1000)\")\n",
    "    comments=driver.find_elements(By.XPATH,'//yt-formatted-string[@id=\"content-text\"]')\n",
    "    \n",
    "    for i in comments:\n",
    "        comments_mess.append(i.text)\n",
    "except NoSuchElementException:\n",
    "    comments_mess.append('-')\n",
    "try:\n",
    "    upvote=driver.find_elements(By.XPATH,'//span[@id=\"vote-count-middle\"]')\n",
    "    for i in upvote:\n",
    "        upvote_likes.append(i.text)\n",
    "except NoSuchElementException:\n",
    "    upvote_likes.append('-')\n",
    "try:\n",
    "    time=driver.find_elements(By.XPATH,'//yt-formatted-string[@class=\"published-time-text style-scope ytd-comment-renderer\"]/a')\n",
    "    for i in time:\n",
    "        time_day.append(i.text)\n",
    "except NoSuchElementException:\n",
    "    time_day.append('-')"
   ]
  },
  {
   "cell_type": "code",
   "execution_count": 16,
   "id": "77d504dc",
   "metadata": {},
   "outputs": [
    {
     "data": {
      "text/plain": [
       "(1401, 1401, 1401)"
      ]
     },
     "execution_count": 16,
     "metadata": {},
     "output_type": "execute_result"
    }
   ],
   "source": [
    "len(comments_mess),len(upvote_likes),len(time_day)"
   ]
  },
  {
   "cell_type": "code",
   "execution_count": 17,
   "id": "1111cf24",
   "metadata": {},
   "outputs": [
    {
     "data": {
      "text/html": [
       "<div>\n",
       "<style scoped>\n",
       "    .dataframe tbody tr th:only-of-type {\n",
       "        vertical-align: middle;\n",
       "    }\n",
       "\n",
       "    .dataframe tbody tr th {\n",
       "        vertical-align: top;\n",
       "    }\n",
       "\n",
       "    .dataframe thead th {\n",
       "        text-align: right;\n",
       "    }\n",
       "</style>\n",
       "<table border=\"1\" class=\"dataframe\">\n",
       "  <thead>\n",
       "    <tr style=\"text-align: right;\">\n",
       "      <th></th>\n",
       "      <th>Comments</th>\n",
       "      <th>Upvotes</th>\n",
       "      <th>Time</th>\n",
       "    </tr>\n",
       "  </thead>\n",
       "  <tbody>\n",
       "    <tr>\n",
       "      <th>0</th>\n",
       "      <td>Watch \"Vaathi Audio Launch\" full show on Sun N...</td>\n",
       "      <td>3.8K</td>\n",
       "      <td>3 weeks ago</td>\n",
       "    </tr>\n",
       "    <tr>\n",
       "      <th>1</th>\n",
       "      <td>யாருக்கெல்லாம் தனுஷ் உடைய நடிப்பு ரொம்ப பிடிக்...</td>\n",
       "      <td>13K</td>\n",
       "      <td>3 weeks ago</td>\n",
       "    </tr>\n",
       "    <tr>\n",
       "      <th>2</th>\n",
       "      <td>అబ్బ పాట వింటుంటే మనసు ఎంత ఆనందంగా ఉందో ️️️️</td>\n",
       "      <td>287</td>\n",
       "      <td>6 days ago</td>\n",
       "    </tr>\n",
       "    <tr>\n",
       "      <th>3</th>\n",
       "      <td>No autotune pure voice and musician's..hats off</td>\n",
       "      <td>282</td>\n",
       "      <td>7 days ago</td>\n",
       "    </tr>\n",
       "    <tr>\n",
       "      <th>4</th>\n",
       "      <td>Dhanush sir never disappointed, he is multi ta...</td>\n",
       "      <td>137</td>\n",
       "      <td>3 days ago</td>\n",
       "    </tr>\n",
       "    <tr>\n",
       "      <th>...</th>\n",
       "      <td>...</td>\n",
       "      <td>...</td>\n",
       "      <td>...</td>\n",
       "    </tr>\n",
       "    <tr>\n",
       "      <th>1396</th>\n",
       "      <td>super</td>\n",
       "      <td></td>\n",
       "      <td>7 days ago</td>\n",
       "    </tr>\n",
       "    <tr>\n",
       "      <th>1397</th>\n",
       "      <td></td>\n",
       "      <td>1</td>\n",
       "      <td>4 days ago</td>\n",
       "    </tr>\n",
       "    <tr>\n",
       "      <th>1398</th>\n",
       "      <td>Super song</td>\n",
       "      <td></td>\n",
       "      <td>4 days ago</td>\n",
       "    </tr>\n",
       "    <tr>\n",
       "      <th>1399</th>\n",
       "      <td>Butterfly  song lave you</td>\n",
       "      <td></td>\n",
       "      <td>5 days ago</td>\n",
       "    </tr>\n",
       "    <tr>\n",
       "      <th>1400</th>\n",
       "      <td>Worst movie in my life</td>\n",
       "      <td></td>\n",
       "      <td>6 days ago</td>\n",
       "    </tr>\n",
       "  </tbody>\n",
       "</table>\n",
       "<p>1401 rows × 3 columns</p>\n",
       "</div>"
      ],
      "text/plain": [
       "                                               Comments Upvotes         Time\n",
       "0     Watch \"Vaathi Audio Launch\" full show on Sun N...    3.8K  3 weeks ago\n",
       "1     யாருக்கெல்லாம் தனுஷ் உடைய நடிப்பு ரொம்ப பிடிக்...     13K  3 weeks ago\n",
       "2          అబ్బ పాట వింటుంటే మనసు ఎంత ఆనందంగా ఉందో ️️️️     287   6 days ago\n",
       "3      No autotune pure voice and musician's..hats off      282   7 days ago\n",
       "4     Dhanush sir never disappointed, he is multi ta...     137   3 days ago\n",
       "...                                                 ...     ...          ...\n",
       "1396                                              super           7 days ago\n",
       "1397                                                          1   4 days ago\n",
       "1398                                        Super song            4 days ago\n",
       "1399                           Butterfly  song lave you           5 days ago\n",
       "1400                             Worst movie in my life           6 days ago\n",
       "\n",
       "[1401 rows x 3 columns]"
      ]
     },
     "execution_count": 17,
     "metadata": {},
     "output_type": "execute_result"
    }
   ],
   "source": [
    "import pandas as pd \n",
    "df=pd.DataFrame({'Comments':comments_mess,'Upvotes':upvote_likes,'Time':time_day})\n",
    "df"
   ]
  },
  {
   "cell_type": "markdown",
   "id": "d5d5b164",
   "metadata": {},
   "source": [
    "9. Write a python program to scrape a data for all available Hostels from https://www.hostelworld.com/ in “London” location. You have to scrape hostel name, distance from city centre, ratings, total reviews, overall reviews, privates from price, dorms from price, facilities and property description."
   ]
  },
  {
   "cell_type": "code",
   "execution_count": 12,
   "id": "e8c80b6f",
   "metadata": {},
   "outputs": [],
   "source": [
    "driver=webdriver.Chrome(r\"chromedriver.exe\")"
   ]
  },
  {
   "cell_type": "code",
   "execution_count": 13,
   "id": "d71ef575",
   "metadata": {},
   "outputs": [],
   "source": [
    "driver.get(\" https://www.hostelworld.com/\")"
   ]
  },
  {
   "cell_type": "code",
   "execution_count": 17,
   "id": "c8b66d24",
   "metadata": {},
   "outputs": [],
   "source": [
    "location=driver.find_element(By.XPATH,'/html/body/div[3]/div/div/div[2]/div[2]/div/div/div[4]/div/div[2]/div/div[1]/div/div/div/input')\n",
    "location.send_keys('London')"
   ]
  },
  {
   "cell_type": "code",
   "execution_count": 18,
   "id": "19ff0f34",
   "metadata": {},
   "outputs": [],
   "source": [
    "select=driver.find_element(By.XPATH,'/html/body/div[3]/div/div/div[2]/div[2]/div/div/div[4]/div/div[2]/div/div[1]/div/div/ul/li[2]/div/span')\n",
    "select.click()"
   ]
  },
  {
   "cell_type": "code",
   "execution_count": 19,
   "id": "7d52527b",
   "metadata": {},
   "outputs": [],
   "source": [
    "search=driver.find_element(By.XPATH,'/html/body/div[3]/div/div/div[2]/div[2]/div/div/div[4]/div/div[2]/div/div[5]/button')\n",
    "search.click()"
   ]
  },
  {
   "cell_type": "code",
   "execution_count": 32,
   "id": "36e10f3d",
   "metadata": {},
   "outputs": [],
   "source": [
    "hostel_name=[]\n",
    "distance_citycenter=[]\n",
    "ratings_num=[]\n",
    "total_reviews=[]\n",
    "overall_reviews=[]\n",
    "privates_price=[]\n",
    "dorns_price=[]"
   ]
  },
  {
   "cell_type": "code",
   "execution_count": 29,
   "id": "a5740c43",
   "metadata": {},
   "outputs": [],
   "source": [
    "img_url=[]"
   ]
  },
  {
   "cell_type": "code",
   "execution_count": 30,
   "id": "b3ba00dd",
   "metadata": {},
   "outputs": [
    {
     "ename": "TypeError",
     "evalue": "'type' object is not iterable",
     "output_type": "error",
     "traceback": [
      "\u001b[1;31m---------------------------------------------------------------------------\u001b[0m",
      "\u001b[1;31mTypeError\u001b[0m                                 Traceback (most recent call last)",
      "Input \u001b[1;32mIn [30]\u001b[0m, in \u001b[0;36m<cell line: 1>\u001b[1;34m()\u001b[0m\n\u001b[0;32m      1\u001b[0m \u001b[38;5;28;01mtry\u001b[39;00m: \n\u001b[1;32m----> 2\u001b[0m     \u001b[38;5;28;01mfor\u001b[39;00m img \u001b[38;5;129;01min\u001b[39;00m \u001b[38;5;28mrange\u001b[39m:\n\u001b[0;32m      3\u001b[0m         img\u001b[38;5;241m=\u001b[39mdriver\u001b[38;5;241m.\u001b[39mfind_elements(By\u001b[38;5;241m.\u001b[39mXPATH,\u001b[38;5;124m'\u001b[39m\u001b[38;5;124m//img[@class=\u001b[39m\u001b[38;5;124m\"\u001b[39m\u001b[38;5;124mcore-active-slide v-lazy-image v-lazy-image-loaded\u001b[39m\u001b[38;5;124m\"\u001b[39m\u001b[38;5;124m]\u001b[39m\u001b[38;5;124m'\u001b[39m)\n\u001b[0;32m      4\u001b[0m         \u001b[38;5;28;01mfor\u001b[39;00m i \u001b[38;5;129;01min\u001b[39;00m img:\n",
      "\u001b[1;31mTypeError\u001b[0m: 'type' object is not iterable"
     ]
    }
   ],
   "source": [
    "try: \n",
    "    for img in range:\n",
    "        img=driver.find_elements(By.XPATH,'//img[@class=\"core-active-slide v-lazy-image v-lazy-image-loaded\"]')\n",
    "        for i in img:\n",
    "            img_url.append(i.get_attribute(\"https\"))\n",
    "except NoSuchElementException:\n",
    "    img_url.append('-')"
   ]
  },
  {
   "cell_type": "code",
   "execution_count": 33,
   "id": "1036c03e",
   "metadata": {},
   "outputs": [],
   "source": [
    "try:\n",
    "    hostel=driver.find_elements(By.XPATH,'//h2[@class=\"title title-6\"]')\n",
    "    for i in hostel:\n",
    "        hostel_name.append(i.text)\n",
    "except NoSuchElementException:\n",
    "    hostel_name.append('-')\n",
    "try:\n",
    "    distance=driver.find_elements(By.XPATH,'//div[@class=\"subtitle body-3\"][1]/a/span')\n",
    "    for i in distance:\n",
    "        distance_citycenter.append(i.text)\n",
    "except NoSuchElementException:\n",
    "    distance_citycenter.append('-')\n",
    "try:\n",
    "    ratings=driver.find_elements(By.XPATH,'//div[@class=\"score orange big\"]')\n",
    "    for i in ratings:\n",
    "        ratings_num.append(i.text)\n",
    "except NoSuchElementException:\n",
    "    ratings_num.append('-')\n",
    "try:\n",
    "    total=driver.find_elements(By.XPATH,'//div[@class=\"reviews\"]')\n",
    "    for i in total:\n",
    "        total_reviews.append(i.text)\n",
    "except NoSuchElementException:\n",
    "    total_reviews.append('-')\n",
    "try:\n",
    "    overall=driver.find_elements(By.XPATH,'//div[@class=\"keyword\"]')\n",
    "    for i in overall:\n",
    "        overall_reviews.append(i.text)\n",
    "except NoSuchElementException:\n",
    "    overall_reviews.append('-')\n",
    "try:\n",
    "    privates=driver.find_elements(By.XPATH,'//div[@class=\"price title-5\"]')\n",
    "    for i in privates:\n",
    "        privates_price.append(i.text)\n",
    "except NoSuchElementException:\n",
    "    privates_price.append('-')\n",
    "try:\n",
    "    dorns=driver.find_elements(By.XPATH,'//div[@class=\"price title-5\"]')\n",
    "    for i in dorns:\n",
    "        dorns_price.append(i.text)\n",
    "except NoSuchElementException:\n",
    "    dorns_price.append('-')"
   ]
  },
  {
   "cell_type": "code",
   "execution_count": 34,
   "id": "74e1f6b5",
   "metadata": {},
   "outputs": [],
   "source": [
    "img=driver.find_element(By.XPATH,'/html/body/div[3]/div/div/div[2]/div[4]/div/div/div[3]/div[2]/a/div/div[1]/div[1]/div/img')\n",
    "img.click()"
   ]
  },
  {
   "cell_type": "code",
   "execution_count": 35,
   "id": "60fd649a",
   "metadata": {},
   "outputs": [],
   "source": [
    "property_des=[]\n",
    "facilities_ava=[]"
   ]
  },
  {
   "cell_type": "code",
   "execution_count": 36,
   "id": "9db1bdea",
   "metadata": {},
   "outputs": [],
   "source": [
    "try:\n",
    "    property=driver.find_elements(By.XPATH,'//div[@class=\"content collapse-content\"]')\n",
    "    for i in property:\n",
    "        property_des.append(i.text)\n",
    "except NoSuchElementException:\n",
    "    property_des.append('-')\n",
    "\n",
    "try:\n",
    "    facilities=driver.find_elements(By.XPATH,'//div[@class=\"room-details\"]')\n",
    "    for i in facilities:\n",
    "        facilities_ava.append(i.text)\n",
    "except NoSuchElementException:\n",
    "    facilities_ava.append('-')"
   ]
  },
  {
   "cell_type": "code",
   "execution_count": null,
   "id": "852135fc",
   "metadata": {},
   "outputs": [],
   "source": []
  }
 ],
 "metadata": {
  "kernelspec": {
   "display_name": "Python 3 (ipykernel)",
   "language": "python",
   "name": "python3"
  },
  "language_info": {
   "codemirror_mode": {
    "name": "ipython",
    "version": 3
   },
   "file_extension": ".py",
   "mimetype": "text/x-python",
   "name": "python",
   "nbconvert_exporter": "python",
   "pygments_lexer": "ipython3",
   "version": "3.9.12"
  }
 },
 "nbformat": 4,
 "nbformat_minor": 5
}
